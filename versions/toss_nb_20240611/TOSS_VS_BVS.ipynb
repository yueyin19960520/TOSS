{
 "cells": [
  {
   "cell_type": "code",
   "execution_count": 1,
   "id": "5f644879",
   "metadata": {},
   "outputs": [
    {
     "data": {
      "text/plain": [
       "'\\nfile_get = open(\"../graphs_dict.pkl\",\\'rb\\') \\ngraphs_dict = pickle.load(file_get) \\nfile_get.close()\\n\\nfile_get = open(\"../TOSS_graphs_dict.pkl\",\\'rb\\') \\nTOSS_graphs_dict = pickle.load(file_get) \\nfile_get.close()\\n'"
      ]
     },
     "execution_count": 1,
     "metadata": {},
     "output_type": "execute_result"
    }
   ],
   "source": [
    "import sys\n",
    "sys.path.append(\"D:/share/TOSS/toss/\")\n",
    "import pickle\n",
    "\n",
    "\n",
    "\"\"\"\n",
    "file_get = open(\"../graphs_dict.pkl\",'rb') \n",
    "graphs_dict = pickle.load(file_get) \n",
    "file_get.close()\n",
    "\n",
    "file_get = open(\"../TOSS_graphs_dict.pkl\",'rb') \n",
    "TOSS_graphs_dict = pickle.load(file_get) \n",
    "file_get.close()\n",
    "\"\"\""
   ]
  },
  {
   "cell_type": "code",
   "execution_count": 64,
   "id": "5300ffdd",
   "metadata": {},
   "outputs": [],
   "source": [
    "sys.path.append(\"D:/share/TOSS/toss_GNN/\")\n",
    "from model_utils_pyg import *\n",
    "from data_utils import *\n",
    "\n",
    "\n",
    "import numpy as np\n",
    "import torch\n",
    "import pickle\n",
    "import scipy.sparse as sp\n",
    "from torch_geometric.data import Dataset as PYGDataset\n",
    "from torch_geometric.loader import DataLoader as PYG_DataLoader\n",
    "from torch_geometric.data import Data\n",
    "from torch_geometric.data import Batch\n",
    "from torch_geometric.data import HeteroData\n",
    "from data_utils import refine_graphs_dict\n",
    "from dataset_utils_pyg import *\n",
    "from sklearn import metrics\n",
    "\n",
    "\n",
    "def encode_onehot(labels):\n",
    "    classes=[\"-4\",\"-3\",\"-2\",\"-1\",\"0\",\"1\",\"2\",\"3\",\"4\",\"5\",\"6\",\"7\"]\n",
    "    num_classes = len(classes)\n",
    "    labels = [str(int(i)) for i in labels]\n",
    "    labels_onehot = np.zeros((len(labels), num_classes), dtype=np.int32)\n",
    "    for i, label in enumerate(labels):\n",
    "        if label in classes:\n",
    "            index = classes.index(label)\n",
    "            labels_onehot[i, index] = 1\n",
    "    return labels_onehot\n",
    "\n",
    "\n",
    "class TOSS_PYG_NC_MEF_DataSet(PYGDataset):\n",
    "    def __init__(self, root, prefix=None, transform=None, pre_transform=None):\n",
    "        self.prefix = prefix+\"_\" if prefix != None else \"\"\n",
    "        super(TOSS_PYG_NC_MEF_DataSet, self).__init__(root, transform, pre_transform)\n",
    "        self.data = torch.load(self.processed_paths[0])\n",
    "\n",
    "    @property\n",
    "    def raw_file_names(self):\n",
    "        return [\"%sgraphs_dict.pkl\"%self.prefix]\n",
    "\n",
    "    @property\n",
    "    def processed_file_names(self):\n",
    "        return [\"%sNN_NC_PYG_dataset.pt\"%self.prefix]\n",
    "\n",
    "    def download(self):\n",
    "        pass\n",
    "\n",
    "    def process(self):\n",
    "        # load data\n",
    "        with open(self.raw_paths[0], 'rb') as f:\n",
    "            graphs_dict = pickle.load(f)\n",
    "        \n",
    "        data_list = []\n",
    "        for k, g in graphs_dict.items():\n",
    "            nodes_data = g[\"n\"]\n",
    "            edges_data = g[\"e\"]\n",
    "\n",
    "            nodes_features = torch.from_numpy(nodes_data.iloc[:,0:-1].to_numpy())\n",
    "\n",
    "            nodes_labels = torch.from_numpy(np.array(encode_onehot(nodes_data[\"OS\"]), dtype = \"float32\"))\n",
    "\n",
    "            edges_src = edges_data['Src']\n",
    "            edges_dst = edges_data['Dst']\n",
    "            bond_idx = np.arange(len(edges_data))\n",
    "\n",
    "            EN = list(nodes_data[\"EN\"])\n",
    "            R1 = list(nodes_data[\"R1\"])\n",
    "            R2 = list(nodes_data[\"R2\"])\n",
    "            R3 = list(nodes_data[\"R3\"])\n",
    "            IP1 = list(nodes_data[\"IP1\"])\n",
    "            IP2 = list(nodes_data[\"IP2\"])\n",
    "            IP3 = list(nodes_data[\"IP3\"])\n",
    "\n",
    "            length_list = list(map(lambda x:edges_data['Length'][x], bond_idx))\n",
    "            delta_EN_list = list(map(lambda x:abs(EN[edges_src[x]]-EN[edges_dst[x]]), bond_idx))\n",
    "            sum_R1_list = list(map(lambda x:abs(R1[edges_src[x]]+R1[edges_dst[x]])*0.01,bond_idx))\n",
    "            sum_R2_list = list(map(lambda x:abs(R2[edges_src[x]]+R2[edges_dst[x]])*0.01,bond_idx))\n",
    "            sum_R3_list = list(map(lambda x:abs(R3[edges_src[x]]+R3[edges_dst[x]])*0.01,bond_idx))\n",
    "            delta_IP1_list = list(map(lambda x:abs(IP1[edges_src[x]]-IP1[edges_dst[x]])*0.001,bond_idx))\n",
    "            delta_IP2_list = list(map(lambda x:abs(IP2[edges_src[x]]-IP2[edges_dst[x]])*0.001,bond_idx))\n",
    "            delta_IP3_list = list(map(lambda x:abs(IP3[edges_src[x]]-IP3[edges_dst[x]])*0.001,bond_idx))\n",
    "            ratio1_list = list(map(lambda x:(edges_data['Length'][x]/abs(0.01*(R1[edges_src[x]]+R1[edges_dst[x]]))),bond_idx))\n",
    "            ratio2_list = list(map(lambda x:(edges_data['Length'][x]/abs(0.01*(R2[edges_src[x]]+R2[edges_dst[x]]))),bond_idx))\n",
    "            ratio3_list = list(map(lambda x:(edges_data['Length'][x]/abs(0.01*(R3[edges_src[x]]+R3[edges_dst[x]]))),bond_idx))\n",
    "            one_over_l_list = list(map(lambda x:1/(edges_data['Length'][x]+1),bond_idx))\n",
    "            square_l_list = list(map(lambda x:(edges_data['Length'][x])**2,bond_idx))\n",
    "\n",
    "            edges_features = torch.from_numpy(np.hstack((np.array(length_list).reshape(len(length_list),1),\n",
    "                                                             np.array(one_over_l_list).reshape(len(one_over_l_list),1),\n",
    "                                                             np.array(square_l_list).reshape(len(square_l_list),1),\n",
    "                                                             np.array(ratio1_list).reshape(len(ratio1_list),1),\n",
    "                                                             np.array(ratio2_list).reshape(len(ratio2_list),1),\n",
    "                                                             np.array(ratio3_list).reshape(len(ratio3_list),1),\n",
    "                                                             np.array(delta_EN_list).reshape(len(delta_EN_list),1),\n",
    "                                                             np.array(delta_IP1_list).reshape(len(delta_IP1_list),1),\n",
    "                                                             np.array(delta_IP2_list).reshape(len(delta_IP2_list),1),\n",
    "                                                             np.array(delta_IP3_list).reshape(len(delta_IP3_list),1),\n",
    "                                                             np.array(sum_R1_list).reshape(len(sum_R1_list),1),\n",
    "                                                             np.array(sum_R2_list).reshape(len(sum_R2_list),1),\n",
    "                                                             np.array(sum_R3_list).reshape(len(sum_R3_list),1))).astype(\"float32\"))\n",
    "            # In PyG, edges are defined in pairs\n",
    "            edge_index = torch.tensor([edges_src, edges_dst], dtype=torch.long)\n",
    "\n",
    "            data = Data(x=nodes_features, edge_index=edge_index, edge_attr=edges_features, y=nodes_labels)\n",
    "            data_list.append(data)  \n",
    "            # self.data, self.slices = self.collate(data_list)\n",
    "\n",
    "        \n",
    "        # collate all your processed data and save it into a single file\n",
    "        torch.save(data_list, self.processed_paths[0])\n",
    " \n",
    "    def len(self):\n",
    "        return len(self.data)\n",
    "\n",
    "    def get(self, idx):\n",
    "        return self.data[idx]"
   ]
  },
  {
   "cell_type": "code",
   "execution_count": 50,
   "id": "a1baec2d",
   "metadata": {},
   "outputs": [
    {
     "data": {
      "text/plain": [
       "<All keys matched successfully>"
      ]
     },
     "execution_count": 50,
     "metadata": {},
     "output_type": "execute_result"
    }
   ],
   "source": [
    "pyg_GCN_s = pyg_GCNPredictor(in_feats=15, hidden_feats=[256, 256, 256, 256], \n",
    "                             activation=None, residual=None, batchnorm=None, dropout=None, \n",
    "                             predictor_hidden_feats=64, n_tasks=12, predictor_dropout=0.3) \n",
    "pyg_GCN_s.load_state_dict(torch.load(\"../models/pyg_GCN_s_0512.pth\"))"
   ]
  },
  {
   "cell_type": "code",
   "execution_count": 65,
   "id": "316f1ab1",
   "metadata": {},
   "outputs": [
    {
     "name": "stderr",
     "output_type": "stream",
     "text": [
      "Processing...\n",
      "Done!\n"
     ]
    }
   ],
   "source": [
    "dataset = TOSS_PYG_NC_MEF_DataSet(root=\"../\", prefix=\"uncertain_TOSS\").shuffle() \n",
    "data_loader = PYG_DataLoader(dataset, batch_size=50, shuffle=True, collate_fn=PYG_NC_collate, drop_last = False)\n",
    "\n",
    "model = pyg_GCN_s\n",
    "model.eval()\n",
    "eval_matrix = measure_matrix()\n",
    "\n",
    "with torch.no_grad():\n",
    "    for batch_id, batch_data in enumerate(data_loader):\n",
    "        batch_data = batch_data.to('cuda:0')\n",
    "        labels = batch_data.y.to('cuda:0')\n",
    "\n",
    "        model = model.to(\"cuda:0\")\n",
    "\n",
    "        outputs = model(batch_data)\n",
    "\n",
    "        torch.cuda.empty_cache()\n",
    "        masks = torch.ones(labels.shape)\n",
    "        eval_matrix.update(outputs, labels, masks)\n",
    "    abs_score = eval_matrix.absolute_correct_rate() *  100\n",
    "\n",
    "all_true = np.vstack((eval_matrix.y_true))\n",
    "all_pred = np.vstack((eval_matrix.y_pred))\n",
    "\n",
    "def unencode(l):\n",
    "    l = list(l)\n",
    "    classes=[\"-4\",\"-3\",\"-2\",\"-1\",\"0\",\"1\",\"2\",\"3\",\"4\",\"5\",\"6\",\"7\"]\n",
    "    return classes[l.index(max(l))]\n",
    "\n",
    "ALL_PRED = list(map(unencode, all_pred))\n",
    "ALL_TRUE = list(map(unencode, all_true))\n",
    "    \n",
    "NC_CM = metrics.confusion_matrix(ALL_PRED, ALL_TRUE, normalize=\"true\")"
   ]
  },
  {
   "cell_type": "code",
   "execution_count": 66,
   "id": "5c935326",
   "metadata": {},
   "outputs": [
    {
     "data": {
      "application/vnd.plotly.v1+json": {
       "config": {
        "plotlyServerURL": "https://plot.ly"
       },
       "data": [
        {
         "colorscale": [
          [
           0,
           "#9FDAF7"
          ],
          [
           1,
           "#F9B3AD"
          ]
         ],
         "hoverongaps": false,
         "showscale": false,
         "text": [
          [
           "0.84",
           "0.06",
           "0.01",
           "0.00",
           "0.08",
           "0.01",
           "0.00",
           "0.00",
           "0.00",
           "0.00",
           "0.00",
           "0.00"
          ],
          [
           "0.09",
           "0.89",
           "0.01",
           "0.00",
           "0.01",
           "0.00",
           "0.00",
           "0.00",
           "0.00",
           "0.00",
           "0.00",
           "0.00"
          ],
          [
           "0.06",
           "0.11",
           "0.71",
           "0.11",
           "0.01",
           "0.00",
           "0.00",
           "0.00",
           "0.00",
           "0.00",
           "0.00",
           "0.00"
          ],
          [
           "0.05",
           "0.09",
           "0.29",
           "0.51",
           "0.06",
           "0.00",
           "0.00",
           "0.00",
           "0.00",
           "0.00",
           "0.00",
           "0.00"
          ],
          [
           "0.10",
           "0.01",
           "0.00",
           "0.00",
           "0.83",
           "0.03",
           "0.01",
           "0.00",
           "0.01",
           "0.00",
           "0.00",
           "0.00"
          ],
          [
           "0.02",
           "0.02",
           "0.01",
           "0.00",
           "0.06",
           "0.74",
           "0.12",
           "0.03",
           "0.01",
           "0.00",
           "0.00",
           "0.00"
          ],
          [
           "0.02",
           "0.01",
           "0.00",
           "0.00",
           "0.04",
           "0.07",
           "0.63",
           "0.17",
           "0.04",
           "0.00",
           "0.00",
           "0.00"
          ],
          [
           "0.00",
           "0.00",
           "0.00",
           "0.00",
           "0.01",
           "0.03",
           "0.20",
           "0.63",
           "0.11",
           "0.01",
           "0.00",
           "0.00"
          ],
          [
           "0.01",
           "0.00",
           "0.00",
           "0.00",
           "0.01",
           "0.01",
           "0.06",
           "0.28",
           "0.51",
           "0.08",
           "0.03",
           "0.00"
          ],
          [
           "0.00",
           "0.00",
           "0.00",
           "0.00",
           "0.00",
           "0.01",
           "0.01",
           "0.10",
           "0.20",
           "0.65",
           "0.03",
           "0.01"
          ],
          [
           "0.00",
           "0.00",
           "0.00",
           "0.00",
           "0.00",
           "0.00",
           "0.01",
           "0.05",
           "0.12",
           "0.27",
           "0.53",
           "0.01"
          ],
          [
           "0.00",
           "0.00",
           "0.00",
           "0.05",
           "0.01",
           "0.00",
           "0.00",
           "0.03",
           "0.11",
           "0.18",
           "0.30",
           "0.31"
          ]
         ],
         "textfont": {
          "size": 16
         },
         "texttemplate": "%{text}",
         "type": "heatmap",
         "x": [
          "-4",
          "-3",
          "-2",
          "-1",
          "+0",
          "+1",
          "+2",
          "+3",
          "+4",
          "+5",
          "+6",
          "+7"
         ],
         "y": [
          "-4",
          "-3",
          "-2",
          "-1",
          "+0",
          "+1",
          "+2",
          "+3",
          "+4",
          "+5",
          "+6",
          "+7"
         ],
         "z": [
          [
           0.8355268565791998,
           0.06405209655764506,
           0.008649270702992994,
           0.0013152006137602864,
           0.07852843664660376,
           0.008494003963868516,
           0.002950068043365087,
           0.000301400140653399,
           0.00017353341431559336,
           0,
           9.133337595557545e-06,
           0
          ],
          [
           0.08779939472546476,
           0.8945438824038046,
           0.010834414180717683,
           0.0007868568958063121,
           0.005650670125378296,
           0.0001729355814958928,
           9.07911802853437e-05,
           1.729355814958928e-05,
           9.72762645914397e-05,
           2.16169476869866e-06,
           4.32338953739732e-06,
           0
          ],
          [
           0.06370343710635235,
           0.114206020720327,
           0.705056685261832,
           0.10565824314249724,
           0.00952466644386745,
           0.0005012982338877606,
           0.0006041286408390961,
           0.0006041286408390961,
           7.712280521350163e-05,
           6.426900434458469e-05,
           0,
           0
          ],
          [
           0.0526753823213233,
           0.08551513680341229,
           0.289281131879183,
           0.5089988556368554,
           0.059472205846655336,
           0.0003467767104761244,
           0.0024621146443804835,
           6.935534209522489e-05,
           0.001179040815618823,
           0,
           0,
           0
          ],
          [
           0.09726252049955847,
           0.014507379841049578,
           0.0008830579033682352,
           0.0027753248391573105,
           0.8329759051343509,
           0.03166393339220386,
           0.011227450485681847,
           0.0032799293553677305,
           0.005424498549262016,
           0,
           0,
           0
          ],
          [
           0.02011543516772387,
           0.015502184540415296,
           0.005163931445433246,
           0.0016312620461428964,
           0.055171983853622805,
           0.7425930832411203,
           0.11500916935513199,
           0.03187714622653762,
           0.00969925554187512,
           0.0020520653128230705,
           0.0010598008197871048,
           0.0001246824493867182
          ],
          [
           0.018213982706644764,
           0.014375026325131926,
           0.002358731820616038,
           0.0014200528307790434,
           0.041013051248262544,
           0.07470922011420594,
           0.6267066206954649,
           0.1738902828673033,
           0.03945460343821266,
           0.004861875793514691,
           0.0025332298379575307,
           0.00046332232190672177
          ],
          [
           0.004941595844775754,
           0.000803200563005347,
           0.0003212802252021388,
           4.5897175028876976e-05,
           0.011030621065273432,
           0.027997276767614952,
           0.20154214508097026,
           0.625226617301705,
           0.11153013532017104,
           0.013417274166775035,
           0.0029833163768770033,
           0.0001606401126010694
          ],
          [
           0.0065690625109193195,
           0.0017820329151961984,
           0.0029525839477270344,
           0.00043677277333240157,
           0.011722981236241657,
           0.00789685174184982,
           0.06277298298333275,
           0.2777001292847409,
           0.5114783884831755,
           0.08216569411929138,
           0.03251336524686397,
           0.002009154757329047
          ],
          [
           0.0014723410222253384,
           0.00014022295449765126,
           0.0008413377269859076,
           0.0002453901703708897,
           0.002909626305826264,
           0.012269508518544485,
           0.010341442894201781,
           0.09587744513776905,
           0.19701325106920003,
           0.6459019841548062,
           0.02527518754820164,
           0.00771226249737082
          ],
          [
           0.00025138260432378077,
           0.00025138260432378077,
           0.00016758840288252054,
           0.004943857885034356,
           0.0016758840288252053,
           0.00318417965476789,
           0.014496396849338025,
           0.05027652086475616,
           0.1237640355287414,
           0.2654600301659125,
           0.526730350259762,
           0.008798391151332328
          ],
          [
           0,
           0,
           0,
           0.05254237288135593,
           0.013559322033898305,
           0.001694915254237288,
           0.003389830508474576,
           0.025423728813559324,
           0.11016949152542373,
           0.17966101694915254,
           0.3016949152542373,
           0.31186440677966104
          ]
         ]
        }
       ],
       "layout": {
        "height": 900,
        "shapes": [
         {
          "line": {
           "color": "black",
           "width": 1
          },
          "type": "line",
          "x0": -0.5,
          "x1": 11.5,
          "y0": -0.5,
          "y1": -0.5
         },
         {
          "line": {
           "color": "black",
           "width": 1
          },
          "type": "line",
          "x0": -0.5,
          "x1": 11.5,
          "y0": 0.5,
          "y1": 0.5
         },
         {
          "line": {
           "color": "black",
           "width": 1
          },
          "type": "line",
          "x0": -0.5,
          "x1": 11.5,
          "y0": 1.5,
          "y1": 1.5
         },
         {
          "line": {
           "color": "black",
           "width": 1
          },
          "type": "line",
          "x0": -0.5,
          "x1": 11.5,
          "y0": 2.5,
          "y1": 2.5
         },
         {
          "line": {
           "color": "black",
           "width": 1
          },
          "type": "line",
          "x0": -0.5,
          "x1": 11.5,
          "y0": 3.5,
          "y1": 3.5
         },
         {
          "line": {
           "color": "black",
           "width": 1
          },
          "type": "line",
          "x0": -0.5,
          "x1": 11.5,
          "y0": 4.5,
          "y1": 4.5
         },
         {
          "line": {
           "color": "black",
           "width": 1
          },
          "type": "line",
          "x0": -0.5,
          "x1": 11.5,
          "y0": 5.5,
          "y1": 5.5
         },
         {
          "line": {
           "color": "black",
           "width": 1
          },
          "type": "line",
          "x0": -0.5,
          "x1": 11.5,
          "y0": 6.5,
          "y1": 6.5
         },
         {
          "line": {
           "color": "black",
           "width": 1
          },
          "type": "line",
          "x0": -0.5,
          "x1": 11.5,
          "y0": 7.5,
          "y1": 7.5
         },
         {
          "line": {
           "color": "black",
           "width": 1
          },
          "type": "line",
          "x0": -0.5,
          "x1": 11.5,
          "y0": 8.5,
          "y1": 8.5
         },
         {
          "line": {
           "color": "black",
           "width": 1
          },
          "type": "line",
          "x0": -0.5,
          "x1": 11.5,
          "y0": 9.5,
          "y1": 9.5
         },
         {
          "line": {
           "color": "black",
           "width": 1
          },
          "type": "line",
          "x0": -0.5,
          "x1": 11.5,
          "y0": 10.5,
          "y1": 10.5
         },
         {
          "line": {
           "color": "black",
           "width": 1
          },
          "type": "line",
          "x0": -0.5,
          "x1": 11.5,
          "y0": 11.5,
          "y1": 11.5
         },
         {
          "line": {
           "color": "black",
           "width": 1
          },
          "type": "line",
          "x0": -0.5,
          "x1": -0.5,
          "y0": -0.5,
          "y1": 11.5
         },
         {
          "line": {
           "color": "black",
           "width": 1
          },
          "type": "line",
          "x0": 0.5,
          "x1": 0.5,
          "y0": -0.5,
          "y1": 11.5
         },
         {
          "line": {
           "color": "black",
           "width": 1
          },
          "type": "line",
          "x0": 1.5,
          "x1": 1.5,
          "y0": -0.5,
          "y1": 11.5
         },
         {
          "line": {
           "color": "black",
           "width": 1
          },
          "type": "line",
          "x0": 2.5,
          "x1": 2.5,
          "y0": -0.5,
          "y1": 11.5
         },
         {
          "line": {
           "color": "black",
           "width": 1
          },
          "type": "line",
          "x0": 3.5,
          "x1": 3.5,
          "y0": -0.5,
          "y1": 11.5
         },
         {
          "line": {
           "color": "black",
           "width": 1
          },
          "type": "line",
          "x0": 4.5,
          "x1": 4.5,
          "y0": -0.5,
          "y1": 11.5
         },
         {
          "line": {
           "color": "black",
           "width": 1
          },
          "type": "line",
          "x0": 5.5,
          "x1": 5.5,
          "y0": -0.5,
          "y1": 11.5
         },
         {
          "line": {
           "color": "black",
           "width": 1
          },
          "type": "line",
          "x0": 6.5,
          "x1": 6.5,
          "y0": -0.5,
          "y1": 11.5
         },
         {
          "line": {
           "color": "black",
           "width": 1
          },
          "type": "line",
          "x0": 7.5,
          "x1": 7.5,
          "y0": -0.5,
          "y1": 11.5
         },
         {
          "line": {
           "color": "black",
           "width": 1
          },
          "type": "line",
          "x0": 8.5,
          "x1": 8.5,
          "y0": -0.5,
          "y1": 11.5
         },
         {
          "line": {
           "color": "black",
           "width": 1
          },
          "type": "line",
          "x0": 9.5,
          "x1": 9.5,
          "y0": -0.5,
          "y1": 11.5
         },
         {
          "line": {
           "color": "black",
           "width": 1
          },
          "type": "line",
          "x0": 10.5,
          "x1": 10.5,
          "y0": -0.5,
          "y1": 11.5
         },
         {
          "line": {
           "color": "black",
           "width": 1
          },
          "type": "line",
          "x0": 11.5,
          "x1": 11.5,
          "y0": -0.5,
          "y1": 11.5
         }
        ],
        "template": {
         "data": {
          "bar": [
           {
            "error_x": {
             "color": "#2a3f5f"
            },
            "error_y": {
             "color": "#2a3f5f"
            },
            "marker": {
             "line": {
              "color": "#E5ECF6",
              "width": 0.5
             },
             "pattern": {
              "fillmode": "overlay",
              "size": 10,
              "solidity": 0.2
             }
            },
            "type": "bar"
           }
          ],
          "barpolar": [
           {
            "marker": {
             "line": {
              "color": "#E5ECF6",
              "width": 0.5
             },
             "pattern": {
              "fillmode": "overlay",
              "size": 10,
              "solidity": 0.2
             }
            },
            "type": "barpolar"
           }
          ],
          "carpet": [
           {
            "aaxis": {
             "endlinecolor": "#2a3f5f",
             "gridcolor": "white",
             "linecolor": "white",
             "minorgridcolor": "white",
             "startlinecolor": "#2a3f5f"
            },
            "baxis": {
             "endlinecolor": "#2a3f5f",
             "gridcolor": "white",
             "linecolor": "white",
             "minorgridcolor": "white",
             "startlinecolor": "#2a3f5f"
            },
            "type": "carpet"
           }
          ],
          "choropleth": [
           {
            "colorbar": {
             "outlinewidth": 0,
             "ticks": ""
            },
            "type": "choropleth"
           }
          ],
          "contour": [
           {
            "colorbar": {
             "outlinewidth": 0,
             "ticks": ""
            },
            "colorscale": [
             [
              0,
              "#0d0887"
             ],
             [
              0.1111111111111111,
              "#46039f"
             ],
             [
              0.2222222222222222,
              "#7201a8"
             ],
             [
              0.3333333333333333,
              "#9c179e"
             ],
             [
              0.4444444444444444,
              "#bd3786"
             ],
             [
              0.5555555555555556,
              "#d8576b"
             ],
             [
              0.6666666666666666,
              "#ed7953"
             ],
             [
              0.7777777777777778,
              "#fb9f3a"
             ],
             [
              0.8888888888888888,
              "#fdca26"
             ],
             [
              1,
              "#f0f921"
             ]
            ],
            "type": "contour"
           }
          ],
          "contourcarpet": [
           {
            "colorbar": {
             "outlinewidth": 0,
             "ticks": ""
            },
            "type": "contourcarpet"
           }
          ],
          "heatmap": [
           {
            "colorbar": {
             "outlinewidth": 0,
             "ticks": ""
            },
            "colorscale": [
             [
              0,
              "#0d0887"
             ],
             [
              0.1111111111111111,
              "#46039f"
             ],
             [
              0.2222222222222222,
              "#7201a8"
             ],
             [
              0.3333333333333333,
              "#9c179e"
             ],
             [
              0.4444444444444444,
              "#bd3786"
             ],
             [
              0.5555555555555556,
              "#d8576b"
             ],
             [
              0.6666666666666666,
              "#ed7953"
             ],
             [
              0.7777777777777778,
              "#fb9f3a"
             ],
             [
              0.8888888888888888,
              "#fdca26"
             ],
             [
              1,
              "#f0f921"
             ]
            ],
            "type": "heatmap"
           }
          ],
          "heatmapgl": [
           {
            "colorbar": {
             "outlinewidth": 0,
             "ticks": ""
            },
            "colorscale": [
             [
              0,
              "#0d0887"
             ],
             [
              0.1111111111111111,
              "#46039f"
             ],
             [
              0.2222222222222222,
              "#7201a8"
             ],
             [
              0.3333333333333333,
              "#9c179e"
             ],
             [
              0.4444444444444444,
              "#bd3786"
             ],
             [
              0.5555555555555556,
              "#d8576b"
             ],
             [
              0.6666666666666666,
              "#ed7953"
             ],
             [
              0.7777777777777778,
              "#fb9f3a"
             ],
             [
              0.8888888888888888,
              "#fdca26"
             ],
             [
              1,
              "#f0f921"
             ]
            ],
            "type": "heatmapgl"
           }
          ],
          "histogram": [
           {
            "marker": {
             "pattern": {
              "fillmode": "overlay",
              "size": 10,
              "solidity": 0.2
             }
            },
            "type": "histogram"
           }
          ],
          "histogram2d": [
           {
            "colorbar": {
             "outlinewidth": 0,
             "ticks": ""
            },
            "colorscale": [
             [
              0,
              "#0d0887"
             ],
             [
              0.1111111111111111,
              "#46039f"
             ],
             [
              0.2222222222222222,
              "#7201a8"
             ],
             [
              0.3333333333333333,
              "#9c179e"
             ],
             [
              0.4444444444444444,
              "#bd3786"
             ],
             [
              0.5555555555555556,
              "#d8576b"
             ],
             [
              0.6666666666666666,
              "#ed7953"
             ],
             [
              0.7777777777777778,
              "#fb9f3a"
             ],
             [
              0.8888888888888888,
              "#fdca26"
             ],
             [
              1,
              "#f0f921"
             ]
            ],
            "type": "histogram2d"
           }
          ],
          "histogram2dcontour": [
           {
            "colorbar": {
             "outlinewidth": 0,
             "ticks": ""
            },
            "colorscale": [
             [
              0,
              "#0d0887"
             ],
             [
              0.1111111111111111,
              "#46039f"
             ],
             [
              0.2222222222222222,
              "#7201a8"
             ],
             [
              0.3333333333333333,
              "#9c179e"
             ],
             [
              0.4444444444444444,
              "#bd3786"
             ],
             [
              0.5555555555555556,
              "#d8576b"
             ],
             [
              0.6666666666666666,
              "#ed7953"
             ],
             [
              0.7777777777777778,
              "#fb9f3a"
             ],
             [
              0.8888888888888888,
              "#fdca26"
             ],
             [
              1,
              "#f0f921"
             ]
            ],
            "type": "histogram2dcontour"
           }
          ],
          "mesh3d": [
           {
            "colorbar": {
             "outlinewidth": 0,
             "ticks": ""
            },
            "type": "mesh3d"
           }
          ],
          "parcoords": [
           {
            "line": {
             "colorbar": {
              "outlinewidth": 0,
              "ticks": ""
             }
            },
            "type": "parcoords"
           }
          ],
          "pie": [
           {
            "automargin": true,
            "type": "pie"
           }
          ],
          "scatter": [
           {
            "fillpattern": {
             "fillmode": "overlay",
             "size": 10,
             "solidity": 0.2
            },
            "type": "scatter"
           }
          ],
          "scatter3d": [
           {
            "line": {
             "colorbar": {
              "outlinewidth": 0,
              "ticks": ""
             }
            },
            "marker": {
             "colorbar": {
              "outlinewidth": 0,
              "ticks": ""
             }
            },
            "type": "scatter3d"
           }
          ],
          "scattercarpet": [
           {
            "marker": {
             "colorbar": {
              "outlinewidth": 0,
              "ticks": ""
             }
            },
            "type": "scattercarpet"
           }
          ],
          "scattergeo": [
           {
            "marker": {
             "colorbar": {
              "outlinewidth": 0,
              "ticks": ""
             }
            },
            "type": "scattergeo"
           }
          ],
          "scattergl": [
           {
            "marker": {
             "colorbar": {
              "outlinewidth": 0,
              "ticks": ""
             }
            },
            "type": "scattergl"
           }
          ],
          "scattermapbox": [
           {
            "marker": {
             "colorbar": {
              "outlinewidth": 0,
              "ticks": ""
             }
            },
            "type": "scattermapbox"
           }
          ],
          "scatterpolar": [
           {
            "marker": {
             "colorbar": {
              "outlinewidth": 0,
              "ticks": ""
             }
            },
            "type": "scatterpolar"
           }
          ],
          "scatterpolargl": [
           {
            "marker": {
             "colorbar": {
              "outlinewidth": 0,
              "ticks": ""
             }
            },
            "type": "scatterpolargl"
           }
          ],
          "scatterternary": [
           {
            "marker": {
             "colorbar": {
              "outlinewidth": 0,
              "ticks": ""
             }
            },
            "type": "scatterternary"
           }
          ],
          "surface": [
           {
            "colorbar": {
             "outlinewidth": 0,
             "ticks": ""
            },
            "colorscale": [
             [
              0,
              "#0d0887"
             ],
             [
              0.1111111111111111,
              "#46039f"
             ],
             [
              0.2222222222222222,
              "#7201a8"
             ],
             [
              0.3333333333333333,
              "#9c179e"
             ],
             [
              0.4444444444444444,
              "#bd3786"
             ],
             [
              0.5555555555555556,
              "#d8576b"
             ],
             [
              0.6666666666666666,
              "#ed7953"
             ],
             [
              0.7777777777777778,
              "#fb9f3a"
             ],
             [
              0.8888888888888888,
              "#fdca26"
             ],
             [
              1,
              "#f0f921"
             ]
            ],
            "type": "surface"
           }
          ],
          "table": [
           {
            "cells": {
             "fill": {
              "color": "#EBF0F8"
             },
             "line": {
              "color": "white"
             }
            },
            "header": {
             "fill": {
              "color": "#C8D4E3"
             },
             "line": {
              "color": "white"
             }
            },
            "type": "table"
           }
          ]
         },
         "layout": {
          "annotationdefaults": {
           "arrowcolor": "#2a3f5f",
           "arrowhead": 0,
           "arrowwidth": 1
          },
          "autotypenumbers": "strict",
          "coloraxis": {
           "colorbar": {
            "outlinewidth": 0,
            "ticks": ""
           }
          },
          "colorscale": {
           "diverging": [
            [
             0,
             "#8e0152"
            ],
            [
             0.1,
             "#c51b7d"
            ],
            [
             0.2,
             "#de77ae"
            ],
            [
             0.3,
             "#f1b6da"
            ],
            [
             0.4,
             "#fde0ef"
            ],
            [
             0.5,
             "#f7f7f7"
            ],
            [
             0.6,
             "#e6f5d0"
            ],
            [
             0.7,
             "#b8e186"
            ],
            [
             0.8,
             "#7fbc41"
            ],
            [
             0.9,
             "#4d9221"
            ],
            [
             1,
             "#276419"
            ]
           ],
           "sequential": [
            [
             0,
             "#0d0887"
            ],
            [
             0.1111111111111111,
             "#46039f"
            ],
            [
             0.2222222222222222,
             "#7201a8"
            ],
            [
             0.3333333333333333,
             "#9c179e"
            ],
            [
             0.4444444444444444,
             "#bd3786"
            ],
            [
             0.5555555555555556,
             "#d8576b"
            ],
            [
             0.6666666666666666,
             "#ed7953"
            ],
            [
             0.7777777777777778,
             "#fb9f3a"
            ],
            [
             0.8888888888888888,
             "#fdca26"
            ],
            [
             1,
             "#f0f921"
            ]
           ],
           "sequentialminus": [
            [
             0,
             "#0d0887"
            ],
            [
             0.1111111111111111,
             "#46039f"
            ],
            [
             0.2222222222222222,
             "#7201a8"
            ],
            [
             0.3333333333333333,
             "#9c179e"
            ],
            [
             0.4444444444444444,
             "#bd3786"
            ],
            [
             0.5555555555555556,
             "#d8576b"
            ],
            [
             0.6666666666666666,
             "#ed7953"
            ],
            [
             0.7777777777777778,
             "#fb9f3a"
            ],
            [
             0.8888888888888888,
             "#fdca26"
            ],
            [
             1,
             "#f0f921"
            ]
           ]
          },
          "colorway": [
           "#636efa",
           "#EF553B",
           "#00cc96",
           "#ab63fa",
           "#FFA15A",
           "#19d3f3",
           "#FF6692",
           "#B6E880",
           "#FF97FF",
           "#FECB52"
          ],
          "font": {
           "color": "#2a3f5f"
          },
          "geo": {
           "bgcolor": "white",
           "lakecolor": "white",
           "landcolor": "#E5ECF6",
           "showlakes": true,
           "showland": true,
           "subunitcolor": "white"
          },
          "hoverlabel": {
           "align": "left"
          },
          "hovermode": "closest",
          "mapbox": {
           "style": "light"
          },
          "paper_bgcolor": "white",
          "plot_bgcolor": "#E5ECF6",
          "polar": {
           "angularaxis": {
            "gridcolor": "white",
            "linecolor": "white",
            "ticks": ""
           },
           "bgcolor": "#E5ECF6",
           "radialaxis": {
            "gridcolor": "white",
            "linecolor": "white",
            "ticks": ""
           }
          },
          "scene": {
           "xaxis": {
            "backgroundcolor": "#E5ECF6",
            "gridcolor": "white",
            "gridwidth": 2,
            "linecolor": "white",
            "showbackground": true,
            "ticks": "",
            "zerolinecolor": "white"
           },
           "yaxis": {
            "backgroundcolor": "#E5ECF6",
            "gridcolor": "white",
            "gridwidth": 2,
            "linecolor": "white",
            "showbackground": true,
            "ticks": "",
            "zerolinecolor": "white"
           },
           "zaxis": {
            "backgroundcolor": "#E5ECF6",
            "gridcolor": "white",
            "gridwidth": 2,
            "linecolor": "white",
            "showbackground": true,
            "ticks": "",
            "zerolinecolor": "white"
           }
          },
          "shapedefaults": {
           "line": {
            "color": "#2a3f5f"
           }
          },
          "ternary": {
           "aaxis": {
            "gridcolor": "white",
            "linecolor": "white",
            "ticks": ""
           },
           "baxis": {
            "gridcolor": "white",
            "linecolor": "white",
            "ticks": ""
           },
           "bgcolor": "#E5ECF6",
           "caxis": {
            "gridcolor": "white",
            "linecolor": "white",
            "ticks": ""
           }
          },
          "title": {
           "x": 0.05
          },
          "xaxis": {
           "automargin": true,
           "gridcolor": "white",
           "linecolor": "white",
           "ticks": "",
           "title": {
            "standoff": 15
           },
           "zerolinecolor": "white",
           "zerolinewidth": 2
          },
          "yaxis": {
           "automargin": true,
           "gridcolor": "white",
           "linecolor": "white",
           "ticks": "",
           "title": {
            "standoff": 15
           },
           "zerolinecolor": "white",
           "zerolinewidth": 2
          }
         }
        },
        "width": 900,
        "xaxis": {
         "tickfont": {
          "family": "Times New Roman",
          "size": 24
         },
         "ticktext": [
          "-4",
          "-3",
          "-2",
          "-1",
          "+0",
          "+1",
          "+2",
          "+3",
          "+4",
          "+5",
          "+6",
          "+7"
         ],
         "title": {
          "font": {
           "size": 24
          },
          "text": "Predicted Oxidation States"
         }
        },
        "yaxis": {
         "tickfont": {
          "family": "Times New Roman",
          "size": 24
         },
         "ticktext": [
          "-4",
          "-3",
          "-2",
          "-1",
          "+0",
          "+1",
          "+2",
          "+3",
          "+4",
          "+5",
          "+6",
          "+7"
         ],
         "title": {
          "font": {
           "size": 24
          },
          "text": "True Oxidation States"
         }
        }
       }
      },
      "text/html": [
       "<div>                            <div id=\"d674ad97-ddf4-41e8-81e0-09282e47d79d\" class=\"plotly-graph-div\" style=\"height:900px; width:900px;\"></div>            <script type=\"text/javascript\">                require([\"plotly\"], function(Plotly) {                    window.PLOTLYENV=window.PLOTLYENV || {};                                    if (document.getElementById(\"d674ad97-ddf4-41e8-81e0-09282e47d79d\")) {                    Plotly.newPlot(                        \"d674ad97-ddf4-41e8-81e0-09282e47d79d\",                        [{\"colorscale\":[[0.0,\"#9FDAF7\"],[1.0,\"#F9B3AD\"]],\"hoverongaps\":false,\"showscale\":false,\"text\":[[\"0.84\",\"0.06\",\"0.01\",\"0.00\",\"0.08\",\"0.01\",\"0.00\",\"0.00\",\"0.00\",\"0.00\",\"0.00\",\"0.00\"],[\"0.09\",\"0.89\",\"0.01\",\"0.00\",\"0.01\",\"0.00\",\"0.00\",\"0.00\",\"0.00\",\"0.00\",\"0.00\",\"0.00\"],[\"0.06\",\"0.11\",\"0.71\",\"0.11\",\"0.01\",\"0.00\",\"0.00\",\"0.00\",\"0.00\",\"0.00\",\"0.00\",\"0.00\"],[\"0.05\",\"0.09\",\"0.29\",\"0.51\",\"0.06\",\"0.00\",\"0.00\",\"0.00\",\"0.00\",\"0.00\",\"0.00\",\"0.00\"],[\"0.10\",\"0.01\",\"0.00\",\"0.00\",\"0.83\",\"0.03\",\"0.01\",\"0.00\",\"0.01\",\"0.00\",\"0.00\",\"0.00\"],[\"0.02\",\"0.02\",\"0.01\",\"0.00\",\"0.06\",\"0.74\",\"0.12\",\"0.03\",\"0.01\",\"0.00\",\"0.00\",\"0.00\"],[\"0.02\",\"0.01\",\"0.00\",\"0.00\",\"0.04\",\"0.07\",\"0.63\",\"0.17\",\"0.04\",\"0.00\",\"0.00\",\"0.00\"],[\"0.00\",\"0.00\",\"0.00\",\"0.00\",\"0.01\",\"0.03\",\"0.20\",\"0.63\",\"0.11\",\"0.01\",\"0.00\",\"0.00\"],[\"0.01\",\"0.00\",\"0.00\",\"0.00\",\"0.01\",\"0.01\",\"0.06\",\"0.28\",\"0.51\",\"0.08\",\"0.03\",\"0.00\"],[\"0.00\",\"0.00\",\"0.00\",\"0.00\",\"0.00\",\"0.01\",\"0.01\",\"0.10\",\"0.20\",\"0.65\",\"0.03\",\"0.01\"],[\"0.00\",\"0.00\",\"0.00\",\"0.00\",\"0.00\",\"0.00\",\"0.01\",\"0.05\",\"0.12\",\"0.27\",\"0.53\",\"0.01\"],[\"0.00\",\"0.00\",\"0.00\",\"0.05\",\"0.01\",\"0.00\",\"0.00\",\"0.03\",\"0.11\",\"0.18\",\"0.30\",\"0.31\"]],\"textfont\":{\"size\":16},\"texttemplate\":\"%{text}\",\"x\":[\"-4\",\"-3\",\"-2\",\"-1\",\"+0\",\"+1\",\"+2\",\"+3\",\"+4\",\"+5\",\"+6\",\"+7\"],\"y\":[\"-4\",\"-3\",\"-2\",\"-1\",\"+0\",\"+1\",\"+2\",\"+3\",\"+4\",\"+5\",\"+6\",\"+7\"],\"z\":[[0.8355268565791998,0.06405209655764506,0.008649270702992994,0.0013152006137602864,0.07852843664660376,0.008494003963868516,0.002950068043365087,0.000301400140653399,0.00017353341431559336,0.0,9.133337595557545e-6,0.0],[0.08779939472546476,0.8945438824038046,0.010834414180717683,0.0007868568958063121,0.005650670125378296,0.0001729355814958928,0.0000907911802853437,0.00001729355814958928,0.0000972762645914397,2.16169476869866e-6,4.32338953739732e-6,0.0],[0.06370343710635235,0.114206020720327,0.705056685261832,0.10565824314249724,0.00952466644386745,0.0005012982338877606,0.0006041286408390961,0.0006041286408390961,0.00007712280521350163,0.00006426900434458469,0.0,0.0],[0.0526753823213233,0.08551513680341229,0.289281131879183,0.5089988556368554,0.059472205846655336,0.0003467767104761244,0.0024621146443804835,0.00006935534209522489,0.001179040815618823,0.0,0.0,0.0],[0.09726252049955847,0.014507379841049578,0.0008830579033682352,0.0027753248391573105,0.8329759051343509,0.03166393339220386,0.011227450485681847,0.0032799293553677305,0.005424498549262016,0.0,0.0,0.0],[0.02011543516772387,0.015502184540415296,0.005163931445433246,0.0016312620461428964,0.055171983853622805,0.7425930832411203,0.11500916935513199,0.03187714622653762,0.00969925554187512,0.0020520653128230705,0.0010598008197871048,0.0001246824493867182],[0.018213982706644764,0.014375026325131926,0.002358731820616038,0.0014200528307790434,0.041013051248262544,0.07470922011420594,0.6267066206954649,0.1738902828673033,0.03945460343821266,0.004861875793514691,0.0025332298379575307,0.00046332232190672177],[0.004941595844775754,0.000803200563005347,0.0003212802252021388,0.000045897175028876976,0.011030621065273432,0.027997276767614952,0.20154214508097026,0.625226617301705,0.11153013532017104,0.013417274166775035,0.0029833163768770033,0.0001606401126010694],[0.0065690625109193195,0.0017820329151961984,0.0029525839477270344,0.00043677277333240157,0.011722981236241657,0.00789685174184982,0.06277298298333275,0.2777001292847409,0.5114783884831755,0.08216569411929138,0.03251336524686397,0.002009154757329047],[0.0014723410222253384,0.00014022295449765126,0.0008413377269859076,0.0002453901703708897,0.002909626305826264,0.012269508518544485,0.010341442894201781,0.09587744513776905,0.19701325106920003,0.6459019841548062,0.02527518754820164,0.00771226249737082],[0.00025138260432378077,0.00025138260432378077,0.00016758840288252054,0.004943857885034356,0.0016758840288252053,0.00318417965476789,0.014496396849338025,0.05027652086475616,0.1237640355287414,0.2654600301659125,0.526730350259762,0.008798391151332328],[0.0,0.0,0.0,0.05254237288135593,0.013559322033898305,0.001694915254237288,0.003389830508474576,0.025423728813559324,0.11016949152542373,0.17966101694915254,0.3016949152542373,0.31186440677966104]],\"type\":\"heatmap\"}],                        {\"template\":{\"data\":{\"histogram2dcontour\":[{\"type\":\"histogram2dcontour\",\"colorbar\":{\"outlinewidth\":0,\"ticks\":\"\"},\"colorscale\":[[0.0,\"#0d0887\"],[0.1111111111111111,\"#46039f\"],[0.2222222222222222,\"#7201a8\"],[0.3333333333333333,\"#9c179e\"],[0.4444444444444444,\"#bd3786\"],[0.5555555555555556,\"#d8576b\"],[0.6666666666666666,\"#ed7953\"],[0.7777777777777778,\"#fb9f3a\"],[0.8888888888888888,\"#fdca26\"],[1.0,\"#f0f921\"]]}],\"choropleth\":[{\"type\":\"choropleth\",\"colorbar\":{\"outlinewidth\":0,\"ticks\":\"\"}}],\"histogram2d\":[{\"type\":\"histogram2d\",\"colorbar\":{\"outlinewidth\":0,\"ticks\":\"\"},\"colorscale\":[[0.0,\"#0d0887\"],[0.1111111111111111,\"#46039f\"],[0.2222222222222222,\"#7201a8\"],[0.3333333333333333,\"#9c179e\"],[0.4444444444444444,\"#bd3786\"],[0.5555555555555556,\"#d8576b\"],[0.6666666666666666,\"#ed7953\"],[0.7777777777777778,\"#fb9f3a\"],[0.8888888888888888,\"#fdca26\"],[1.0,\"#f0f921\"]]}],\"heatmap\":[{\"type\":\"heatmap\",\"colorbar\":{\"outlinewidth\":0,\"ticks\":\"\"},\"colorscale\":[[0.0,\"#0d0887\"],[0.1111111111111111,\"#46039f\"],[0.2222222222222222,\"#7201a8\"],[0.3333333333333333,\"#9c179e\"],[0.4444444444444444,\"#bd3786\"],[0.5555555555555556,\"#d8576b\"],[0.6666666666666666,\"#ed7953\"],[0.7777777777777778,\"#fb9f3a\"],[0.8888888888888888,\"#fdca26\"],[1.0,\"#f0f921\"]]}],\"heatmapgl\":[{\"type\":\"heatmapgl\",\"colorbar\":{\"outlinewidth\":0,\"ticks\":\"\"},\"colorscale\":[[0.0,\"#0d0887\"],[0.1111111111111111,\"#46039f\"],[0.2222222222222222,\"#7201a8\"],[0.3333333333333333,\"#9c179e\"],[0.4444444444444444,\"#bd3786\"],[0.5555555555555556,\"#d8576b\"],[0.6666666666666666,\"#ed7953\"],[0.7777777777777778,\"#fb9f3a\"],[0.8888888888888888,\"#fdca26\"],[1.0,\"#f0f921\"]]}],\"contourcarpet\":[{\"type\":\"contourcarpet\",\"colorbar\":{\"outlinewidth\":0,\"ticks\":\"\"}}],\"contour\":[{\"type\":\"contour\",\"colorbar\":{\"outlinewidth\":0,\"ticks\":\"\"},\"colorscale\":[[0.0,\"#0d0887\"],[0.1111111111111111,\"#46039f\"],[0.2222222222222222,\"#7201a8\"],[0.3333333333333333,\"#9c179e\"],[0.4444444444444444,\"#bd3786\"],[0.5555555555555556,\"#d8576b\"],[0.6666666666666666,\"#ed7953\"],[0.7777777777777778,\"#fb9f3a\"],[0.8888888888888888,\"#fdca26\"],[1.0,\"#f0f921\"]]}],\"surface\":[{\"type\":\"surface\",\"colorbar\":{\"outlinewidth\":0,\"ticks\":\"\"},\"colorscale\":[[0.0,\"#0d0887\"],[0.1111111111111111,\"#46039f\"],[0.2222222222222222,\"#7201a8\"],[0.3333333333333333,\"#9c179e\"],[0.4444444444444444,\"#bd3786\"],[0.5555555555555556,\"#d8576b\"],[0.6666666666666666,\"#ed7953\"],[0.7777777777777778,\"#fb9f3a\"],[0.8888888888888888,\"#fdca26\"],[1.0,\"#f0f921\"]]}],\"mesh3d\":[{\"type\":\"mesh3d\",\"colorbar\":{\"outlinewidth\":0,\"ticks\":\"\"}}],\"scatter\":[{\"fillpattern\":{\"fillmode\":\"overlay\",\"size\":10,\"solidity\":0.2},\"type\":\"scatter\"}],\"parcoords\":[{\"type\":\"parcoords\",\"line\":{\"colorbar\":{\"outlinewidth\":0,\"ticks\":\"\"}}}],\"scatterpolargl\":[{\"type\":\"scatterpolargl\",\"marker\":{\"colorbar\":{\"outlinewidth\":0,\"ticks\":\"\"}}}],\"bar\":[{\"error_x\":{\"color\":\"#2a3f5f\"},\"error_y\":{\"color\":\"#2a3f5f\"},\"marker\":{\"line\":{\"color\":\"#E5ECF6\",\"width\":0.5},\"pattern\":{\"fillmode\":\"overlay\",\"size\":10,\"solidity\":0.2}},\"type\":\"bar\"}],\"scattergeo\":[{\"type\":\"scattergeo\",\"marker\":{\"colorbar\":{\"outlinewidth\":0,\"ticks\":\"\"}}}],\"scatterpolar\":[{\"type\":\"scatterpolar\",\"marker\":{\"colorbar\":{\"outlinewidth\":0,\"ticks\":\"\"}}}],\"histogram\":[{\"marker\":{\"pattern\":{\"fillmode\":\"overlay\",\"size\":10,\"solidity\":0.2}},\"type\":\"histogram\"}],\"scattergl\":[{\"type\":\"scattergl\",\"marker\":{\"colorbar\":{\"outlinewidth\":0,\"ticks\":\"\"}}}],\"scatter3d\":[{\"type\":\"scatter3d\",\"line\":{\"colorbar\":{\"outlinewidth\":0,\"ticks\":\"\"}},\"marker\":{\"colorbar\":{\"outlinewidth\":0,\"ticks\":\"\"}}}],\"scattermapbox\":[{\"type\":\"scattermapbox\",\"marker\":{\"colorbar\":{\"outlinewidth\":0,\"ticks\":\"\"}}}],\"scatterternary\":[{\"type\":\"scatterternary\",\"marker\":{\"colorbar\":{\"outlinewidth\":0,\"ticks\":\"\"}}}],\"scattercarpet\":[{\"type\":\"scattercarpet\",\"marker\":{\"colorbar\":{\"outlinewidth\":0,\"ticks\":\"\"}}}],\"carpet\":[{\"aaxis\":{\"endlinecolor\":\"#2a3f5f\",\"gridcolor\":\"white\",\"linecolor\":\"white\",\"minorgridcolor\":\"white\",\"startlinecolor\":\"#2a3f5f\"},\"baxis\":{\"endlinecolor\":\"#2a3f5f\",\"gridcolor\":\"white\",\"linecolor\":\"white\",\"minorgridcolor\":\"white\",\"startlinecolor\":\"#2a3f5f\"},\"type\":\"carpet\"}],\"table\":[{\"cells\":{\"fill\":{\"color\":\"#EBF0F8\"},\"line\":{\"color\":\"white\"}},\"header\":{\"fill\":{\"color\":\"#C8D4E3\"},\"line\":{\"color\":\"white\"}},\"type\":\"table\"}],\"barpolar\":[{\"marker\":{\"line\":{\"color\":\"#E5ECF6\",\"width\":0.5},\"pattern\":{\"fillmode\":\"overlay\",\"size\":10,\"solidity\":0.2}},\"type\":\"barpolar\"}],\"pie\":[{\"automargin\":true,\"type\":\"pie\"}]},\"layout\":{\"autotypenumbers\":\"strict\",\"colorway\":[\"#636efa\",\"#EF553B\",\"#00cc96\",\"#ab63fa\",\"#FFA15A\",\"#19d3f3\",\"#FF6692\",\"#B6E880\",\"#FF97FF\",\"#FECB52\"],\"font\":{\"color\":\"#2a3f5f\"},\"hovermode\":\"closest\",\"hoverlabel\":{\"align\":\"left\"},\"paper_bgcolor\":\"white\",\"plot_bgcolor\":\"#E5ECF6\",\"polar\":{\"bgcolor\":\"#E5ECF6\",\"angularaxis\":{\"gridcolor\":\"white\",\"linecolor\":\"white\",\"ticks\":\"\"},\"radialaxis\":{\"gridcolor\":\"white\",\"linecolor\":\"white\",\"ticks\":\"\"}},\"ternary\":{\"bgcolor\":\"#E5ECF6\",\"aaxis\":{\"gridcolor\":\"white\",\"linecolor\":\"white\",\"ticks\":\"\"},\"baxis\":{\"gridcolor\":\"white\",\"linecolor\":\"white\",\"ticks\":\"\"},\"caxis\":{\"gridcolor\":\"white\",\"linecolor\":\"white\",\"ticks\":\"\"}},\"coloraxis\":{\"colorbar\":{\"outlinewidth\":0,\"ticks\":\"\"}},\"colorscale\":{\"sequential\":[[0.0,\"#0d0887\"],[0.1111111111111111,\"#46039f\"],[0.2222222222222222,\"#7201a8\"],[0.3333333333333333,\"#9c179e\"],[0.4444444444444444,\"#bd3786\"],[0.5555555555555556,\"#d8576b\"],[0.6666666666666666,\"#ed7953\"],[0.7777777777777778,\"#fb9f3a\"],[0.8888888888888888,\"#fdca26\"],[1.0,\"#f0f921\"]],\"sequentialminus\":[[0.0,\"#0d0887\"],[0.1111111111111111,\"#46039f\"],[0.2222222222222222,\"#7201a8\"],[0.3333333333333333,\"#9c179e\"],[0.4444444444444444,\"#bd3786\"],[0.5555555555555556,\"#d8576b\"],[0.6666666666666666,\"#ed7953\"],[0.7777777777777778,\"#fb9f3a\"],[0.8888888888888888,\"#fdca26\"],[1.0,\"#f0f921\"]],\"diverging\":[[0,\"#8e0152\"],[0.1,\"#c51b7d\"],[0.2,\"#de77ae\"],[0.3,\"#f1b6da\"],[0.4,\"#fde0ef\"],[0.5,\"#f7f7f7\"],[0.6,\"#e6f5d0\"],[0.7,\"#b8e186\"],[0.8,\"#7fbc41\"],[0.9,\"#4d9221\"],[1,\"#276419\"]]},\"xaxis\":{\"gridcolor\":\"white\",\"linecolor\":\"white\",\"ticks\":\"\",\"title\":{\"standoff\":15},\"zerolinecolor\":\"white\",\"automargin\":true,\"zerolinewidth\":2},\"yaxis\":{\"gridcolor\":\"white\",\"linecolor\":\"white\",\"ticks\":\"\",\"title\":{\"standoff\":15},\"zerolinecolor\":\"white\",\"automargin\":true,\"zerolinewidth\":2},\"scene\":{\"xaxis\":{\"backgroundcolor\":\"#E5ECF6\",\"gridcolor\":\"white\",\"linecolor\":\"white\",\"showbackground\":true,\"ticks\":\"\",\"zerolinecolor\":\"white\",\"gridwidth\":2},\"yaxis\":{\"backgroundcolor\":\"#E5ECF6\",\"gridcolor\":\"white\",\"linecolor\":\"white\",\"showbackground\":true,\"ticks\":\"\",\"zerolinecolor\":\"white\",\"gridwidth\":2},\"zaxis\":{\"backgroundcolor\":\"#E5ECF6\",\"gridcolor\":\"white\",\"linecolor\":\"white\",\"showbackground\":true,\"ticks\":\"\",\"zerolinecolor\":\"white\",\"gridwidth\":2}},\"shapedefaults\":{\"line\":{\"color\":\"#2a3f5f\"}},\"annotationdefaults\":{\"arrowcolor\":\"#2a3f5f\",\"arrowhead\":0,\"arrowwidth\":1},\"geo\":{\"bgcolor\":\"white\",\"landcolor\":\"#E5ECF6\",\"subunitcolor\":\"white\",\"showland\":true,\"showlakes\":true,\"lakecolor\":\"white\"},\"title\":{\"x\":0.05},\"mapbox\":{\"style\":\"light\"}}},\"xaxis\":{\"title\":{\"text\":\"Predicted Oxidation States\",\"font\":{\"size\":24}},\"tickfont\":{\"size\":24,\"family\":\"Times New Roman\"},\"ticktext\":[\"-4\",\"-3\",\"-2\",\"-1\",\"+0\",\"+1\",\"+2\",\"+3\",\"+4\",\"+5\",\"+6\",\"+7\"]},\"yaxis\":{\"title\":{\"text\":\"True Oxidation States\",\"font\":{\"size\":24}},\"tickfont\":{\"size\":24,\"family\":\"Times New Roman\"},\"ticktext\":[\"-4\",\"-3\",\"-2\",\"-1\",\"+0\",\"+1\",\"+2\",\"+3\",\"+4\",\"+5\",\"+6\",\"+7\"]},\"width\":900,\"height\":900,\"shapes\":[{\"line\":{\"color\":\"black\",\"width\":1},\"type\":\"line\",\"x0\":-0.5,\"x1\":11.5,\"y0\":-0.5,\"y1\":-0.5},{\"line\":{\"color\":\"black\",\"width\":1},\"type\":\"line\",\"x0\":-0.5,\"x1\":11.5,\"y0\":0.5,\"y1\":0.5},{\"line\":{\"color\":\"black\",\"width\":1},\"type\":\"line\",\"x0\":-0.5,\"x1\":11.5,\"y0\":1.5,\"y1\":1.5},{\"line\":{\"color\":\"black\",\"width\":1},\"type\":\"line\",\"x0\":-0.5,\"x1\":11.5,\"y0\":2.5,\"y1\":2.5},{\"line\":{\"color\":\"black\",\"width\":1},\"type\":\"line\",\"x0\":-0.5,\"x1\":11.5,\"y0\":3.5,\"y1\":3.5},{\"line\":{\"color\":\"black\",\"width\":1},\"type\":\"line\",\"x0\":-0.5,\"x1\":11.5,\"y0\":4.5,\"y1\":4.5},{\"line\":{\"color\":\"black\",\"width\":1},\"type\":\"line\",\"x0\":-0.5,\"x1\":11.5,\"y0\":5.5,\"y1\":5.5},{\"line\":{\"color\":\"black\",\"width\":1},\"type\":\"line\",\"x0\":-0.5,\"x1\":11.5,\"y0\":6.5,\"y1\":6.5},{\"line\":{\"color\":\"black\",\"width\":1},\"type\":\"line\",\"x0\":-0.5,\"x1\":11.5,\"y0\":7.5,\"y1\":7.5},{\"line\":{\"color\":\"black\",\"width\":1},\"type\":\"line\",\"x0\":-0.5,\"x1\":11.5,\"y0\":8.5,\"y1\":8.5},{\"line\":{\"color\":\"black\",\"width\":1},\"type\":\"line\",\"x0\":-0.5,\"x1\":11.5,\"y0\":9.5,\"y1\":9.5},{\"line\":{\"color\":\"black\",\"width\":1},\"type\":\"line\",\"x0\":-0.5,\"x1\":11.5,\"y0\":10.5,\"y1\":10.5},{\"line\":{\"color\":\"black\",\"width\":1},\"type\":\"line\",\"x0\":-0.5,\"x1\":11.5,\"y0\":11.5,\"y1\":11.5},{\"line\":{\"color\":\"black\",\"width\":1},\"type\":\"line\",\"x0\":-0.5,\"x1\":-0.5,\"y0\":-0.5,\"y1\":11.5},{\"line\":{\"color\":\"black\",\"width\":1},\"type\":\"line\",\"x0\":0.5,\"x1\":0.5,\"y0\":-0.5,\"y1\":11.5},{\"line\":{\"color\":\"black\",\"width\":1},\"type\":\"line\",\"x0\":1.5,\"x1\":1.5,\"y0\":-0.5,\"y1\":11.5},{\"line\":{\"color\":\"black\",\"width\":1},\"type\":\"line\",\"x0\":2.5,\"x1\":2.5,\"y0\":-0.5,\"y1\":11.5},{\"line\":{\"color\":\"black\",\"width\":1},\"type\":\"line\",\"x0\":3.5,\"x1\":3.5,\"y0\":-0.5,\"y1\":11.5},{\"line\":{\"color\":\"black\",\"width\":1},\"type\":\"line\",\"x0\":4.5,\"x1\":4.5,\"y0\":-0.5,\"y1\":11.5},{\"line\":{\"color\":\"black\",\"width\":1},\"type\":\"line\",\"x0\":5.5,\"x1\":5.5,\"y0\":-0.5,\"y1\":11.5},{\"line\":{\"color\":\"black\",\"width\":1},\"type\":\"line\",\"x0\":6.5,\"x1\":6.5,\"y0\":-0.5,\"y1\":11.5},{\"line\":{\"color\":\"black\",\"width\":1},\"type\":\"line\",\"x0\":7.5,\"x1\":7.5,\"y0\":-0.5,\"y1\":11.5},{\"line\":{\"color\":\"black\",\"width\":1},\"type\":\"line\",\"x0\":8.5,\"x1\":8.5,\"y0\":-0.5,\"y1\":11.5},{\"line\":{\"color\":\"black\",\"width\":1},\"type\":\"line\",\"x0\":9.5,\"x1\":9.5,\"y0\":-0.5,\"y1\":11.5},{\"line\":{\"color\":\"black\",\"width\":1},\"type\":\"line\",\"x0\":10.5,\"x1\":10.5,\"y0\":-0.5,\"y1\":11.5},{\"line\":{\"color\":\"black\",\"width\":1},\"type\":\"line\",\"x0\":11.5,\"x1\":11.5,\"y0\":-0.5,\"y1\":11.5}]},                        {\"responsive\": true}                    ).then(function(){\n",
       "                            \n",
       "var gd = document.getElementById('d674ad97-ddf4-41e8-81e0-09282e47d79d');\n",
       "var x = new MutationObserver(function (mutations, observer) {{\n",
       "        var display = window.getComputedStyle(gd).display;\n",
       "        if (!display || display === 'none') {{\n",
       "            console.log([gd, 'removed!']);\n",
       "            Plotly.purge(gd);\n",
       "            observer.disconnect();\n",
       "        }}\n",
       "}});\n",
       "\n",
       "// Listen for the removal of the full notebook cells\n",
       "var notebookContainer = gd.closest('#notebook-container');\n",
       "if (notebookContainer) {{\n",
       "    x.observe(notebookContainer, {childList: true});\n",
       "}}\n",
       "\n",
       "// Listen for the clearing of the current output cell\n",
       "var outputEl = gd.closest('.output');\n",
       "if (outputEl) {{\n",
       "    x.observe(outputEl, {childList: true});\n",
       "}}\n",
       "\n",
       "                        })                };                });            </script>        </div>"
      ]
     },
     "metadata": {},
     "output_type": "display_data"
    },
    {
     "name": "stdout",
     "output_type": "stream",
     "text": [
      "0.7568030974319376\n"
     ]
    }
   ],
   "source": [
    "import pandas as pd\n",
    "import plotly.graph_objects as go\n",
    "\n",
    "\n",
    "cm_str = [[\"%.2f\" % y for y in x] for x in NC_CM]\n",
    "df_str = pd.DataFrame(cm_str)\n",
    "tick_labels = [f'+{i}' if i >= 0 else str(i) for i in range(-4, 8)]\n",
    "\n",
    "colorscale = [[0.0, '#9FDAF7'], [1.0, '#F9B3AD']]\n",
    "\n",
    "fig = go.Figure(data=go.Heatmap(z=NC_CM, x=tick_labels, y=tick_labels,\n",
    "                                text=df_str,texttemplate=\"%{text}\",textfont={\"size\": 16},showscale=False,\n",
    "                                colorscale=colorscale, hoverongaps=False))\n",
    "\n",
    "fig.update_layout(width=900, height=900,\n",
    "                  xaxis=dict(title=\"Predicted Oxidation States\", titlefont_size=24, tickfont_size=24, ticktext=tick_labels,\n",
    "                             tickfont=dict(family=\"Times New Roman\")),\n",
    "                  yaxis=dict(title=\"True Oxidation States\", titlefont_size=24, tickfont_size=24, ticktext=tick_labels,\n",
    "                             tickfont=dict(family=\"Times New Roman\")))\n",
    "\n",
    "for i in range(len(tick_labels) + 1):\n",
    "    fig.add_shape(type=\"line\",x0=-0.5, y0=i - 0.5, x1=len(tick_labels) - 0.5, y1=i - 0.5, line=dict(color=\"black\", width=1))\n",
    "\n",
    "for i in range(len(tick_labels) + 1):\n",
    "    fig.add_shape(type=\"line\",x0=i - 0.5, y0=-0.5, x1=i - 0.5, y1=len(tick_labels) - 0.5, line=dict(color=\"black\", width=1))\n",
    "\n",
    "fig.show()\n",
    "\n",
    "print(sum([1 for (x,y) in zip(ALL_PRED, ALL_TRUE) if x==y])/len(ALL_PRED))\n",
    "\n",
    "fig.write_image(\"TOSS.png\")"
   ]
  },
  {
   "cell_type": "code",
   "execution_count": null,
   "id": "bffc7da2",
   "metadata": {},
   "outputs": [],
   "source": []
  },
  {
   "cell_type": "code",
   "execution_count": null,
   "id": "3eab2f2b",
   "metadata": {},
   "outputs": [],
   "source": []
  },
  {
   "cell_type": "code",
   "execution_count": 63,
   "id": "81684316",
   "metadata": {},
   "outputs": [
    {
     "data": {
      "text/plain": [
       "array([[0, 0, 0, 0, 0, 1, 0, 0, 0, 0, 0, 0],\n",
       "       [0, 1, 0, 0, 0, 0, 0, 0, 0, 0, 0, 0],\n",
       "       [0, 0, 0, 0, 0, 0, 0, 0, 0, 0, 0, 1],\n",
       "       [0, 0, 0, 0, 0, 0, 0, 0, 0, 0, 0, 0]])"
      ]
     },
     "execution_count": 63,
     "metadata": {},
     "output_type": "execute_result"
    }
   ],
   "source": [
    "def encode_onehot(labels):\n",
    "    classes=[\"-4\",\"-3\",\"-2\",\"-1\",\"0\",\"1\",\"2\",\"3\",\"4\",\"5\",\"6\",\"7\"]\n",
    "    classes_dict = {c: np.identity(len(classes))[i, :] for i, c in enumerate(classes)}\n",
    "    labels = [str(int(i)) for i in labels]\n",
    "    labels_onehot = np.array(list(map(classes_dict.get, labels)), dtype=np.int32)\n",
    "    return labels_onehot\n",
    "\n",
    "def encode_onehot(labels):\n",
    "    classes=[\"-4\",\"-3\",\"-2\",\"-1\",\"0\",\"1\",\"2\",\"3\",\"4\",\"5\",\"6\",\"7\"]\n",
    "    num_classes = len(classes)\n",
    "    labels = [str(int(i)) for i in labels]\n",
    "    labels_onehot = np.zeros((len(labels), num_classes), dtype=np.int32)\n",
    "    for i, label in enumerate(labels):\n",
    "        if label in classes:\n",
    "            index = classes.index(label)\n",
    "            labels_onehot[i, index] = 1\n",
    "    return labels_onehot\n",
    "\n",
    "ll = [1, -3, 7, -5]\n",
    "l = encode_onehot(ll)\n",
    "l"
   ]
  },
  {
   "cell_type": "code",
   "execution_count": null,
   "id": "6408801b",
   "metadata": {},
   "outputs": [],
   "source": []
  },
  {
   "cell_type": "code",
   "execution_count": null,
   "id": "c8e560eb",
   "metadata": {},
   "outputs": [],
   "source": []
  },
  {
   "cell_type": "code",
   "execution_count": null,
   "id": "d67ef2b2",
   "metadata": {},
   "outputs": [],
   "source": [
    "TOSS = 0.7640467439674983\n",
    "BVS = 0.7733770891108066"
   ]
  }
 ],
 "metadata": {
  "kernelspec": {
   "display_name": "GFOS",
   "language": "python",
   "name": "gfos"
  },
  "language_info": {
   "codemirror_mode": {
    "name": "ipython",
    "version": 3
   },
   "file_extension": ".py",
   "mimetype": "text/x-python",
   "name": "python",
   "nbconvert_exporter": "python",
   "pygments_lexer": "ipython3",
   "version": "3.7.0"
  }
 },
 "nbformat": 4,
 "nbformat_minor": 5
}
