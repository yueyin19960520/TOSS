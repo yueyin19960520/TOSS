{
 "cells": [
  {
   "cell_type": "code",
   "execution_count": 1,
   "id": "5f644879",
   "metadata": {},
   "outputs": [],
   "source": [
    "import sys\n",
    "sys.path.append(\"D:/share/TOSS/toss/\")\n",
    "import pickle\n",
    "\n",
    "\n",
    "file_get = open(\"../graphs_dict.pkl\",'rb') \n",
    "graphs_dict = pickle.load(file_get) \n",
    "file_get.close()\n",
    "\n",
    "file_get = open(\"../TOSS_graphs_dict.pkl\",'rb') \n",
    "TOSS_graphs_dict = pickle.load(file_get) \n",
    "file_get.close()\n"
   ]
  },
  {
   "cell_type": "code",
   "execution_count": 41,
   "id": "4efbc213",
   "metadata": {},
   "outputs": [
    {
     "name": "stdout",
     "output_type": "stream",
     "text": [
      "72056\n",
      "72056\n",
      "72056\n"
     ]
    }
   ],
   "source": [
    "import copy\n",
    "import numpy as np\n",
    "\n",
    "file_get = open(\"../BVS_result.pkl\",'rb') \n",
    "BVS_result = pickle.load(file_get) \n",
    "file_get.close()\n",
    "\n",
    "file_get = open(\"../dismatch_TUNE.pkl\",'rb') \n",
    "dismatch = pickle.load(file_get) \n",
    "file_get.close()\n",
    "\n",
    "different_results = dismatch[\"OR_degree\"] + dismatch[\"wrong_seperation\"] + dismatch[\"tunation_candi\"] \n",
    "print(len(different_results))\n",
    "\n",
    "uncertain_BVS_graphs_dict = {}\n",
    "uncertain_TOSS_graphs_dict = {}\n",
    "for k in different_results:\n",
    "    if k in TOSS_graphs_dict and k in BVS_result:\n",
    "        uncertain_TOSS_graphs_dict[k] = TOSS_graphs_dict[k]\n",
    "        temp = copy.deepcopy(TOSS_graphs_dict[k])\n",
    "        temp['n'][\"OS\"] = np.array(BVS_result[k],dtype=\"float32\")\n",
    "        uncertain_BVS_graphs_dict[k] = temp\n",
    "\n",
    "print(len(uncertain_BVS_graphs_dict))\n",
    "print(len(uncertain_TOSS_graphs_dict))"
   ]
  },
  {
   "cell_type": "code",
   "execution_count": 42,
   "id": "ad31f7b2",
   "metadata": {},
   "outputs": [
    {
     "data": {
      "text/html": [
       "<div>\n",
       "<style scoped>\n",
       "    .dataframe tbody tr th:only-of-type {\n",
       "        vertical-align: middle;\n",
       "    }\n",
       "\n",
       "    .dataframe tbody tr th {\n",
       "        vertical-align: top;\n",
       "    }\n",
       "\n",
       "    .dataframe thead th {\n",
       "        text-align: right;\n",
       "    }\n",
       "</style>\n",
       "<table border=\"1\" class=\"dataframe\">\n",
       "  <thead>\n",
       "    <tr style=\"text-align: right;\">\n",
       "      <th></th>\n",
       "      <th>Element</th>\n",
       "      <th>EN</th>\n",
       "      <th>CN</th>\n",
       "      <th>SEN</th>\n",
       "      <th>R1</th>\n",
       "      <th>R2</th>\n",
       "      <th>R3</th>\n",
       "      <th>IP1</th>\n",
       "      <th>IP2</th>\n",
       "      <th>IP3</th>\n",
       "      <th>IP4</th>\n",
       "      <th>IP5</th>\n",
       "      <th>IP6</th>\n",
       "      <th>IP7</th>\n",
       "      <th>IP8</th>\n",
       "      <th>OS</th>\n",
       "    </tr>\n",
       "  </thead>\n",
       "  <tbody>\n",
       "    <tr>\n",
       "      <th>0</th>\n",
       "      <td>25.0</td>\n",
       "      <td>2.20</td>\n",
       "      <td>4.0</td>\n",
       "      <td>11.28</td>\n",
       "      <td>119.0</td>\n",
       "      <td>105.0</td>\n",
       "      <td>103.0</td>\n",
       "      <td>717.280029</td>\n",
       "      <td>1509.030029</td>\n",
       "      <td>3248.500000</td>\n",
       "      <td>4941.000000</td>\n",
       "      <td>6987.0</td>\n",
       "      <td>9224.0</td>\n",
       "      <td>11500.0</td>\n",
       "      <td>18860.0</td>\n",
       "      <td>2.0</td>\n",
       "    </tr>\n",
       "    <tr>\n",
       "      <th>1</th>\n",
       "      <td>29.0</td>\n",
       "      <td>2.86</td>\n",
       "      <td>4.0</td>\n",
       "      <td>11.28</td>\n",
       "      <td>112.0</td>\n",
       "      <td>115.0</td>\n",
       "      <td>120.0</td>\n",
       "      <td>745.479980</td>\n",
       "      <td>1957.920044</td>\n",
       "      <td>5535.000000</td>\n",
       "      <td>5536.000000</td>\n",
       "      <td>7700.0</td>\n",
       "      <td>9938.0</td>\n",
       "      <td>13410.0</td>\n",
       "      <td>16020.0</td>\n",
       "      <td>2.0</td>\n",
       "    </tr>\n",
       "    <tr>\n",
       "      <th>2</th>\n",
       "      <td>14.0</td>\n",
       "      <td>2.82</td>\n",
       "      <td>8.0</td>\n",
       "      <td>11.28</td>\n",
       "      <td>116.0</td>\n",
       "      <td>107.0</td>\n",
       "      <td>102.0</td>\n",
       "      <td>786.520020</td>\n",
       "      <td>1577.130005</td>\n",
       "      <td>3231.580078</td>\n",
       "      <td>4355.520020</td>\n",
       "      <td>16091.0</td>\n",
       "      <td>19806.0</td>\n",
       "      <td>23790.0</td>\n",
       "      <td>29292.0</td>\n",
       "      <td>-2.0</td>\n",
       "    </tr>\n",
       "    <tr>\n",
       "      <th>3</th>\n",
       "      <td>52.0</td>\n",
       "      <td>3.14</td>\n",
       "      <td>8.0</td>\n",
       "      <td>11.28</td>\n",
       "      <td>136.0</td>\n",
       "      <td>128.0</td>\n",
       "      <td>121.0</td>\n",
       "      <td>869.299988</td>\n",
       "      <td>1795.000000</td>\n",
       "      <td>2686.000000</td>\n",
       "      <td>3610.050049</td>\n",
       "      <td>6666.0</td>\n",
       "      <td>6667.0</td>\n",
       "      <td>11980.0</td>\n",
       "      <td>13800.0</td>\n",
       "      <td>-2.0</td>\n",
       "    </tr>\n",
       "  </tbody>\n",
       "</table>\n",
       "</div>"
      ],
      "text/plain": [
       "   Element    EN   CN    SEN     R1     R2     R3         IP1          IP2  \\\n",
       "0     25.0  2.20  4.0  11.28  119.0  105.0  103.0  717.280029  1509.030029   \n",
       "1     29.0  2.86  4.0  11.28  112.0  115.0  120.0  745.479980  1957.920044   \n",
       "2     14.0  2.82  8.0  11.28  116.0  107.0  102.0  786.520020  1577.130005   \n",
       "3     52.0  3.14  8.0  11.28  136.0  128.0  121.0  869.299988  1795.000000   \n",
       "\n",
       "           IP3          IP4      IP5      IP6      IP7      IP8   OS  \n",
       "0  3248.500000  4941.000000   6987.0   9224.0  11500.0  18860.0  2.0  \n",
       "1  5535.000000  5536.000000   7700.0   9938.0  13410.0  16020.0  2.0  \n",
       "2  3231.580078  4355.520020  16091.0  19806.0  23790.0  29292.0 -2.0  \n",
       "3  2686.000000  3610.050049   6666.0   6667.0  11980.0  13800.0 -2.0  "
      ]
     },
     "execution_count": 42,
     "metadata": {},
     "output_type": "execute_result"
    }
   ],
   "source": [
    "uncertain_TOSS_graphs_dict['1001396.cif']['n']"
   ]
  },
  {
   "cell_type": "code",
   "execution_count": 43,
   "id": "4ca47a02",
   "metadata": {},
   "outputs": [
    {
     "data": {
      "text/html": [
       "<div>\n",
       "<style scoped>\n",
       "    .dataframe tbody tr th:only-of-type {\n",
       "        vertical-align: middle;\n",
       "    }\n",
       "\n",
       "    .dataframe tbody tr th {\n",
       "        vertical-align: top;\n",
       "    }\n",
       "\n",
       "    .dataframe thead th {\n",
       "        text-align: right;\n",
       "    }\n",
       "</style>\n",
       "<table border=\"1\" class=\"dataframe\">\n",
       "  <thead>\n",
       "    <tr style=\"text-align: right;\">\n",
       "      <th></th>\n",
       "      <th>Element</th>\n",
       "      <th>EN</th>\n",
       "      <th>CN</th>\n",
       "      <th>SEN</th>\n",
       "      <th>R1</th>\n",
       "      <th>R2</th>\n",
       "      <th>R3</th>\n",
       "      <th>IP1</th>\n",
       "      <th>IP2</th>\n",
       "      <th>IP3</th>\n",
       "      <th>IP4</th>\n",
       "      <th>IP5</th>\n",
       "      <th>IP6</th>\n",
       "      <th>IP7</th>\n",
       "      <th>IP8</th>\n",
       "      <th>OS</th>\n",
       "    </tr>\n",
       "  </thead>\n",
       "  <tbody>\n",
       "    <tr>\n",
       "      <th>0</th>\n",
       "      <td>25.0</td>\n",
       "      <td>2.20</td>\n",
       "      <td>4.0</td>\n",
       "      <td>11.28</td>\n",
       "      <td>119.0</td>\n",
       "      <td>105.0</td>\n",
       "      <td>103.0</td>\n",
       "      <td>717.280029</td>\n",
       "      <td>1509.030029</td>\n",
       "      <td>3248.500000</td>\n",
       "      <td>4941.000000</td>\n",
       "      <td>6987.0</td>\n",
       "      <td>9224.0</td>\n",
       "      <td>11500.0</td>\n",
       "      <td>18860.0</td>\n",
       "      <td>3.0</td>\n",
       "    </tr>\n",
       "    <tr>\n",
       "      <th>1</th>\n",
       "      <td>29.0</td>\n",
       "      <td>2.86</td>\n",
       "      <td>4.0</td>\n",
       "      <td>11.28</td>\n",
       "      <td>112.0</td>\n",
       "      <td>115.0</td>\n",
       "      <td>120.0</td>\n",
       "      <td>745.479980</td>\n",
       "      <td>1957.920044</td>\n",
       "      <td>5535.000000</td>\n",
       "      <td>5536.000000</td>\n",
       "      <td>7700.0</td>\n",
       "      <td>9938.0</td>\n",
       "      <td>13410.0</td>\n",
       "      <td>16020.0</td>\n",
       "      <td>2.0</td>\n",
       "    </tr>\n",
       "    <tr>\n",
       "      <th>2</th>\n",
       "      <td>14.0</td>\n",
       "      <td>2.82</td>\n",
       "      <td>8.0</td>\n",
       "      <td>11.28</td>\n",
       "      <td>116.0</td>\n",
       "      <td>107.0</td>\n",
       "      <td>102.0</td>\n",
       "      <td>786.520020</td>\n",
       "      <td>1577.130005</td>\n",
       "      <td>3231.580078</td>\n",
       "      <td>4355.520020</td>\n",
       "      <td>16091.0</td>\n",
       "      <td>19806.0</td>\n",
       "      <td>23790.0</td>\n",
       "      <td>29292.0</td>\n",
       "      <td>-4.0</td>\n",
       "    </tr>\n",
       "    <tr>\n",
       "      <th>3</th>\n",
       "      <td>52.0</td>\n",
       "      <td>3.14</td>\n",
       "      <td>8.0</td>\n",
       "      <td>11.28</td>\n",
       "      <td>136.0</td>\n",
       "      <td>128.0</td>\n",
       "      <td>121.0</td>\n",
       "      <td>869.299988</td>\n",
       "      <td>1795.000000</td>\n",
       "      <td>2686.000000</td>\n",
       "      <td>3610.050049</td>\n",
       "      <td>6666.0</td>\n",
       "      <td>6667.0</td>\n",
       "      <td>11980.0</td>\n",
       "      <td>13800.0</td>\n",
       "      <td>-1.0</td>\n",
       "    </tr>\n",
       "  </tbody>\n",
       "</table>\n",
       "</div>"
      ],
      "text/plain": [
       "   Element    EN   CN    SEN     R1     R2     R3         IP1          IP2  \\\n",
       "0     25.0  2.20  4.0  11.28  119.0  105.0  103.0  717.280029  1509.030029   \n",
       "1     29.0  2.86  4.0  11.28  112.0  115.0  120.0  745.479980  1957.920044   \n",
       "2     14.0  2.82  8.0  11.28  116.0  107.0  102.0  786.520020  1577.130005   \n",
       "3     52.0  3.14  8.0  11.28  136.0  128.0  121.0  869.299988  1795.000000   \n",
       "\n",
       "           IP3          IP4      IP5      IP6      IP7      IP8   OS  \n",
       "0  3248.500000  4941.000000   6987.0   9224.0  11500.0  18860.0  3.0  \n",
       "1  5535.000000  5536.000000   7700.0   9938.0  13410.0  16020.0  2.0  \n",
       "2  3231.580078  4355.520020  16091.0  19806.0  23790.0  29292.0 -4.0  \n",
       "3  2686.000000  3610.050049   6666.0   6667.0  11980.0  13800.0 -1.0  "
      ]
     },
     "execution_count": 43,
     "metadata": {},
     "output_type": "execute_result"
    }
   ],
   "source": [
    "uncertain_BVS_graphs_dict['1001396.cif']['n']"
   ]
  },
  {
   "cell_type": "code",
   "execution_count": 44,
   "id": "74a3a922",
   "metadata": {},
   "outputs": [],
   "source": [
    "file_get = open(\"../raw/uncertain_TOSS_graphs_dict.pkl\",'wb') \n",
    "pickle.dump(uncertain_TOSS_graphs_dict, file_get) \n",
    "file_get.close()\n",
    "\n",
    "file_get = open(\"../raw/uncertain_BVS_graphs_dict.pkl\",'wb') \n",
    "pickle.dump(uncertain_BVS_graphs_dict, file_get) \n",
    "file_get.close()"
   ]
  },
  {
   "cell_type": "code",
   "execution_count": 45,
   "id": "5300ffdd",
   "metadata": {},
   "outputs": [],
   "source": [
    "sys.path.append(\"D:/share/TOSS/toss_GNN/\")\n",
    "from model_utils_pyg import *\n",
    "from data_utils import *\n",
    "\n",
    "\n",
    "import numpy as np\n",
    "import torch\n",
    "import pickle\n",
    "import scipy.sparse as sp\n",
    "from torch_geometric.data import Dataset as PYGDataset\n",
    "from torch_geometric.loader import DataLoader as PYG_DataLoader\n",
    "from torch_geometric.data import Data\n",
    "from torch_geometric.data import Batch\n",
    "from torch_geometric.data import HeteroData\n",
    "from data_utils import refine_graphs_dict\n",
    "from dataset_utils_pyg import *\n",
    "from sklearn import metrics\n",
    "\n",
    "\n",
    "def encode_onehot(labels):\n",
    "    classes=[\"-4\",\"-3\",\"-2\",\"-1\",\"0\",\"1\",\"2\",\"3\",\"4\",\"5\",\"6\",\"7\"]\n",
    "    num_classes = len(classes)\n",
    "    labels = [str(int(i)) for i in labels]\n",
    "    labels_onehot = np.zeros((len(labels), num_classes), dtype=np.int32)\n",
    "    for i, label in enumerate(labels):\n",
    "        if label in classes:\n",
    "            index = classes.index(label)\n",
    "            labels_onehot[i, index] = 1\n",
    "    return labels_onehot\n",
    "\n",
    "\n",
    "class TOSS_PYG_NC_MEF_DataSet(PYGDataset):\n",
    "    def __init__(self, root, prefix=None, transform=None, pre_transform=None):\n",
    "        self.prefix = prefix+\"_\" if prefix != None else \"\"\n",
    "        super(TOSS_PYG_NC_MEF_DataSet, self).__init__(root, transform, pre_transform)\n",
    "        self.data = torch.load(self.processed_paths[0])\n",
    "\n",
    "    @property\n",
    "    def raw_file_names(self):\n",
    "        return [\"%sgraphs_dict.pkl\"%self.prefix]\n",
    "\n",
    "    @property\n",
    "    def processed_file_names(self):\n",
    "        return [\"%sNN_NC_PYG_dataset.pt\"%self.prefix]\n",
    "\n",
    "    def download(self):\n",
    "        pass\n",
    "\n",
    "    def process(self):\n",
    "        # load data\n",
    "        with open(self.raw_paths[0], 'rb') as f:\n",
    "            graphs_dict = pickle.load(f)\n",
    "        \n",
    "        data_list = []\n",
    "        for k, g in graphs_dict.items():\n",
    "            nodes_data = g[\"n\"]\n",
    "            edges_data = g[\"e\"]\n",
    "\n",
    "            nodes_features = torch.from_numpy(nodes_data.iloc[:,0:-1].to_numpy())\n",
    "\n",
    "            nodes_labels = torch.from_numpy(np.array(encode_onehot(nodes_data[\"OS\"]), dtype = \"float32\"))\n",
    "\n",
    "            edges_src = edges_data['Src']\n",
    "            edges_dst = edges_data['Dst']\n",
    "            bond_idx = np.arange(len(edges_data))\n",
    "\n",
    "            EN = list(nodes_data[\"EN\"])\n",
    "            R1 = list(nodes_data[\"R1\"])\n",
    "            R2 = list(nodes_data[\"R2\"])\n",
    "            R3 = list(nodes_data[\"R3\"])\n",
    "            IP1 = list(nodes_data[\"IP1\"])\n",
    "            IP2 = list(nodes_data[\"IP2\"])\n",
    "            IP3 = list(nodes_data[\"IP3\"])\n",
    "\n",
    "            length_list = list(map(lambda x:edges_data['Length'][x], bond_idx))\n",
    "            delta_EN_list = list(map(lambda x:abs(EN[edges_src[x]]-EN[edges_dst[x]]), bond_idx))\n",
    "            sum_R1_list = list(map(lambda x:abs(R1[edges_src[x]]+R1[edges_dst[x]])*0.01,bond_idx))\n",
    "            sum_R2_list = list(map(lambda x:abs(R2[edges_src[x]]+R2[edges_dst[x]])*0.01,bond_idx))\n",
    "            sum_R3_list = list(map(lambda x:abs(R3[edges_src[x]]+R3[edges_dst[x]])*0.01,bond_idx))\n",
    "            delta_IP1_list = list(map(lambda x:abs(IP1[edges_src[x]]-IP1[edges_dst[x]])*0.001,bond_idx))\n",
    "            delta_IP2_list = list(map(lambda x:abs(IP2[edges_src[x]]-IP2[edges_dst[x]])*0.001,bond_idx))\n",
    "            delta_IP3_list = list(map(lambda x:abs(IP3[edges_src[x]]-IP3[edges_dst[x]])*0.001,bond_idx))\n",
    "            ratio1_list = list(map(lambda x:(edges_data['Length'][x]/abs(0.01*(R1[edges_src[x]]+R1[edges_dst[x]]))),bond_idx))\n",
    "            ratio2_list = list(map(lambda x:(edges_data['Length'][x]/abs(0.01*(R2[edges_src[x]]+R2[edges_dst[x]]))),bond_idx))\n",
    "            ratio3_list = list(map(lambda x:(edges_data['Length'][x]/abs(0.01*(R3[edges_src[x]]+R3[edges_dst[x]]))),bond_idx))\n",
    "            one_over_l_list = list(map(lambda x:1/(edges_data['Length'][x]+1),bond_idx))\n",
    "            square_l_list = list(map(lambda x:(edges_data['Length'][x])**2,bond_idx))\n",
    "\n",
    "            edges_features = torch.from_numpy(np.hstack((np.array(length_list).reshape(len(length_list),1),\n",
    "                                                             np.array(one_over_l_list).reshape(len(one_over_l_list),1),\n",
    "                                                             np.array(square_l_list).reshape(len(square_l_list),1),\n",
    "                                                             np.array(ratio1_list).reshape(len(ratio1_list),1),\n",
    "                                                             np.array(ratio2_list).reshape(len(ratio2_list),1),\n",
    "                                                             np.array(ratio3_list).reshape(len(ratio3_list),1),\n",
    "                                                             np.array(delta_EN_list).reshape(len(delta_EN_list),1),\n",
    "                                                             np.array(delta_IP1_list).reshape(len(delta_IP1_list),1),\n",
    "                                                             np.array(delta_IP2_list).reshape(len(delta_IP2_list),1),\n",
    "                                                             np.array(delta_IP3_list).reshape(len(delta_IP3_list),1),\n",
    "                                                             np.array(sum_R1_list).reshape(len(sum_R1_list),1),\n",
    "                                                             np.array(sum_R2_list).reshape(len(sum_R2_list),1),\n",
    "                                                             np.array(sum_R3_list).reshape(len(sum_R3_list),1))).astype(\"float32\"))\n",
    "            # In PyG, edges are defined in pairs\n",
    "            edge_index = torch.tensor([edges_src, edges_dst], dtype=torch.long)\n",
    "\n",
    "            data = Data(x=nodes_features, edge_index=edge_index, edge_attr=edges_features, y=nodes_labels)\n",
    "            data_list.append(data)  \n",
    "            # self.data, self.slices = self.collate(data_list)\n",
    "\n",
    "        \n",
    "        # collate all your processed data and save it into a single file\n",
    "        torch.save(data_list, self.processed_paths[0])\n",
    " \n",
    "    def len(self):\n",
    "        return len(self.data)\n",
    "\n",
    "    def get(self, idx):\n",
    "        return self.data[idx]"
   ]
  },
  {
   "cell_type": "code",
   "execution_count": 52,
   "id": "a1baec2d",
   "metadata": {},
   "outputs": [],
   "source": [
    "pyg_GCN_s = pyg_GCNPredictor(in_feats=15, hidden_feats=[256, 256, 256, 256], \n",
    "                             activation=None, residual=None, batchnorm=None, dropout=None, \n",
    "                             predictor_hidden_feats=64, n_tasks=12, predictor_dropout=0.3) \n",
    "pyg_GCN_s.load_state_dict(torch.load(\"../models/pyg_GCN_s_0609.pth\"))\n",
    "\n",
    "contrast_dict = {}"
   ]
  },
  {
   "cell_type": "code",
   "execution_count": 70,
   "id": "316f1ab1",
   "metadata": {},
   "outputs": [],
   "source": [
    "approach = \"TOSS\"  #\" BVS\"\n",
    "\n",
    "dataset = TOSS_PYG_NC_MEF_DataSet(root=\"../\", prefix=\"uncertain_%s\"%approach)#.shuffle() \n",
    "data_loader = PYG_DataLoader(dataset, batch_size=100, shuffle=False, collate_fn=PYG_NC_collate, drop_last = False)\n",
    "\n",
    "model = pyg_GCN_s\n",
    "model.eval()\n",
    "\n",
    "eval_matrix = measure_matrix()\n",
    "\n",
    "with torch.no_grad():\n",
    "    for batch_id, batch_data in enumerate(data_loader):\n",
    "        batch_data = batch_data.to('cuda:0')\n",
    "        labels = batch_data.y.to('cuda:0')\n",
    "\n",
    "        model = model.to(\"cuda:0\")\n",
    "\n",
    "        outputs = model(batch_data)\n",
    "\n",
    "        torch.cuda.empty_cache()\n",
    "        masks = torch.ones(labels.shape)\n",
    "        eval_matrix.update(outputs, labels, masks)\n",
    "    abs_score = eval_matrix.absolute_correct_rate() *  100\n",
    "\n",
    "all_true = np.vstack((eval_matrix.y_true))\n",
    "all_pred = np.vstack((eval_matrix.y_pred))\n",
    "\n",
    "def unencode(l):\n",
    "    l = list(l)\n",
    "    classes=[\"-4\",\"-3\",\"-2\",\"-1\",\"0\",\"1\",\"2\",\"3\",\"4\",\"5\",\"6\",\"7\"]\n",
    "    return classes[l.index(max(l))]\n",
    "\n",
    "\n",
    "ALL_PRED = list(map(unencode, all_pred))\n",
    "ALL_TRUE = list(map(unencode, all_true))\n",
    "NC_CM = metrics.confusion_matrix(ALL_PRED, ALL_TRUE, normalize=\"true\")\n",
    "acc = sum([1 for (x,y) in zip(ALL_PRED, ALL_TRUE) if x==y])/len(ALL_PRED)\n",
    "\n",
    "contrast_dict[\"%s\"%approach] = (ALL_PRED, ALL_TRUE, NC_CM, acc)"
   ]
  },
  {
   "cell_type": "code",
   "execution_count": 80,
   "id": "74d9fa52",
   "metadata": {},
   "outputs": [
    {
     "name": "stdout",
     "output_type": "stream",
     "text": [
      "154758 147405 349635\n",
      "0.4426 0.4216\n"
     ]
    }
   ],
   "source": [
    "toss_pred, toss_true = contrast_dict[\"TOSS\"][0], contrast_dict[\"TOSS\"][1]\n",
    "bvs_pred, bvs_true = contrast_dict[\"BVS\"][0], contrast_dict[\"BVS\"][1]    \n",
    "\n",
    "t, b, s = 0, 0, 0\n",
    "for i,j,k,l in zip(toss_true, toss_pred, bvs_true, bvs_pred):\n",
    "    if i != k:\n",
    "        if i == j:\n",
    "            t+=1\n",
    "        if k == l:\n",
    "            b+=1\n",
    "        s += 1\n",
    "print(t,b,s)\n",
    "\n",
    "print(round(t/s, 4), round(b/s, 4))"
   ]
  },
  {
   "cell_type": "code",
   "execution_count": 81,
   "id": "8e7b8913",
   "metadata": {},
   "outputs": [
    {
     "name": "stdout",
     "output_type": "stream",
     "text": [
      "349635 857425\n",
      "0.4426 0.4216\n"
     ]
    }
   ],
   "source": [
    "toss_pred, toss_true = contrast_dict[\"TOSS\"][0], contrast_dict[\"TOSS\"][1]\n",
    "bvs_pred, bvs_true = contrast_dict[\"BVS\"][0], contrast_dict[\"BVS\"][1]\n",
    "\n",
    "num_nodes = len(toss_true)\n",
    "diff_idx = [i for i in range(num_nodes) if toss_true[i] != bvs_true[i]]\n",
    "acc_bvs = [i for i in diff_idx if bvs_true[i] == bvs_pred[i]]\n",
    "acc_toss = [i for i in diff_idx if toss_true[i] == toss_pred[i]]\n",
    "acc_bvs_ratio = len(acc_bvs) / len(diff_idx) if len(diff_idx) > 0 else 0\n",
    "acc_toss_ratio = len(acc_toss) / len(diff_idx) if len(diff_idx) > 0 else 0\n",
    "\n",
    "print(round(acc_toss_ratio, 4), round(acc_bvs_ratio, 4))\n"
   ]
  },
  {
   "cell_type": "code",
   "execution_count": 82,
   "id": "2b4a38bc",
   "metadata": {},
   "outputs": [
    {
     "name": "stdout",
     "output_type": "stream",
     "text": [
      "349635 857425\n",
      "0.4215968080998756 0.44262731133896777\n"
     ]
    }
   ],
   "source": [
    "num_nodes = len(contrast_dict[\"TOSS\"][0])\n",
    "\n",
    "diff_idx = [i for i in range(num_nodes) if contrast_dict[\"TOSS\"][1][i] != contrast_dict[\"BVS\"][1][i]]\n",
    "print(len(diff_idx), num_nodes)\n",
    "\n",
    "acc_bvs = [i for i in diff_idx if contrast_dict[\"BVS\"][0][i] == contrast_dict[\"BVS\"][1][i]]\n",
    "acc_toss = [i for i in diff_idx if contrast_dict[\"TOSS\"][0][i] == contrast_dict[\"TOSS\"][1][i]]\n",
    "\n",
    "print(len(acc_bvs)/len(diff_idx), len(acc_toss)/len(diff_idx))"
   ]
  },
  {
   "cell_type": "code",
   "execution_count": null,
   "id": "ee3df826",
   "metadata": {},
   "outputs": [],
   "source": []
  },
  {
   "cell_type": "code",
   "execution_count": null,
   "id": "0b82a225",
   "metadata": {},
   "outputs": [],
   "source": []
  },
  {
   "cell_type": "code",
   "execution_count": 51,
   "id": "5c935326",
   "metadata": {},
   "outputs": [
    {
     "data": {
      "application/vnd.plotly.v1+json": {
       "config": {
        "plotlyServerURL": "https://plot.ly"
       },
       "data": [
        {
         "colorscale": [
          [
           0,
           "#9FDAF7"
          ],
          [
           1,
           "#F9B3AD"
          ]
         ],
         "hoverongaps": false,
         "showscale": false,
         "text": [
          [
           "0.80",
           "0.06",
           "0.00",
           "0.06",
           "0.06",
           "0.01",
           "0.00",
           "0.00",
           "0.00",
           "0.00",
           "0.00",
           "0.00"
          ],
          [
           "0.09",
           "0.89",
           "0.01",
           "0.00",
           "0.00",
           "0.00",
           "0.00",
           "0.00",
           "0.00",
           "0.00",
           "0.00",
           "0.00"
          ],
          [
           "0.06",
           "0.10",
           "0.81",
           "0.01",
           "0.01",
           "0.00",
           "0.00",
           "0.00",
           "0.00",
           "0.00",
           "0.00",
           "0.00"
          ],
          [
           "0.04",
           "0.07",
           "0.11",
           "0.76",
           "0.01",
           "0.00",
           "0.00",
           "0.00",
           "0.00",
           "0.00",
           "0.00",
           "0.00"
          ],
          [
           "0.09",
           "0.03",
           "0.00",
           "0.00",
           "0.81",
           "0.03",
           "0.02",
           "0.02",
           "0.01",
           "0.00",
           "0.00",
           "0.00"
          ],
          [
           "0.02",
           "0.02",
           "0.01",
           "0.00",
           "0.06",
           "0.70",
           "0.14",
           "0.04",
           "0.01",
           "0.00",
           "0.00",
           "0.00"
          ],
          [
           "0.02",
           "0.01",
           "0.00",
           "0.00",
           "0.04",
           "0.06",
           "0.65",
           "0.16",
           "0.05",
           "0.01",
           "0.00",
           "0.00"
          ],
          [
           "0.01",
           "0.00",
           "0.00",
           "0.00",
           "0.01",
           "0.02",
           "0.20",
           "0.65",
           "0.10",
           "0.02",
           "0.00",
           "0.00"
          ],
          [
           "0.01",
           "0.00",
           "0.00",
           "0.00",
           "0.01",
           "0.01",
           "0.07",
           "0.33",
           "0.47",
           "0.08",
           "0.02",
           "0.00"
          ],
          [
           "0.00",
           "0.00",
           "0.00",
           "0.00",
           "0.00",
           "0.02",
           "0.01",
           "0.11",
           "0.23",
           "0.61",
           "0.01",
           "0.00"
          ],
          [
           "0.00",
           "0.00",
           "0.00",
           "0.00",
           "0.00",
           "0.00",
           "0.01",
           "0.08",
           "0.15",
           "0.31",
           "0.43",
           "0.01"
          ],
          [
           "0.00",
           "0.00",
           "0.00",
           "0.00",
           "0.11",
           "0.00",
           "0.01",
           "0.02",
           "0.11",
           "0.14",
           "0.26",
           "0.34"
          ]
         ],
         "textfont": {
          "size": 16
         },
         "texttemplate": "%{text}",
         "type": "heatmap",
         "x": [
          "-4",
          "-3",
          "-2",
          "-1",
          "+0",
          "+1",
          "+2",
          "+3",
          "+4",
          "+5",
          "+6",
          "+7"
         ],
         "y": [
          "-4",
          "-3",
          "-2",
          "-1",
          "+0",
          "+1",
          "+2",
          "+3",
          "+4",
          "+5",
          "+6",
          "+7"
         ],
         "z": [
          [
           0.8016473299337189,
           0.06345186351346727,
           0.004859851466511516,
           0.05724585600693612,
           0.056572777986926316,
           0.014077597910035707,
           0.0013119317339174283,
           0.0005704051017032297,
           0.00021675393864722725,
           3.422430610219378e-05,
           1.1408102034064593e-05,
           0
          ],
          [
           0.09295662069526106,
           0.8943967269081746,
           0.007291977131709431,
           0.000629961795865283,
           0.004362316091798304,
           0.00022692172216652668,
           7.112471888801583e-05,
           2.3708239629338606e-05,
           2.7095131004958408e-05,
           3.386891375619801e-06,
           1.0160674126859404e-05,
           0
          ],
          [
           0.062474908715517405,
           0.10365329102066566,
           0.8142384675677226,
           0.005677799231489801,
           0.012368808426848153,
           0.0008985069490909786,
           0.0005161635664990728,
           0.00011470301477757173,
           1.911716912959529e-05,
           3.823433825919058e-05,
           0,
           0
          ],
          [
           0.0416429789653212,
           0.07049459920409323,
           0.11078737919272313,
           0.7608726549175668,
           0.011938601478112564,
           0.0005685048322910744,
           0.0022740193291642978,
           0.0004974417282546902,
           0.000923820352472996,
           0,
           0,
           0
          ],
          [
           0.08715901530272788,
           0.03304502106897316,
           0.0013306719893546241,
           0,
           0.8110445775116434,
           0.027944111776447105,
           0.015302727877578177,
           0.015968063872255488,
           0.008205810601020182,
           0,
           0,
           0
          ],
          [
           0.020716849295477298,
           0.01537078529253526,
           0.005536751636167996,
           0.0022201488725593684,
           0.05660698597764868,
           0.7002458508414092,
           0.14383976790590927,
           0.040493880970055234,
           0.010637645824962374,
           0.0028807453162350088,
           0.0011577463445861737,
           0.00029284172245414985
          ],
          [
           0.015784193319610455,
           0.008899690370344744,
           0.003710366539239937,
           0.0027416927574337065,
           0.03910155506737472,
           0.0631540710245455,
           0.6480168134092128,
           0.15946792132985071,
           0.04587362266696649,
           0.008475895590804519,
           0.003424953728529173,
           0.0013492241960872497
          ],
          [
           0.006428119804229211,
           0.00012879657166943773,
           0.0006439828583471888,
           0.0027164367843008686,
           0.008324942041542749,
           0.01780905322811044,
           0.19670749127695947,
           0.6522726740510034,
           0.09539142449008266,
           0.015584385172001967,
           0.0032199142917359435,
           0.0007727794300166265
          ],
          [
           0.007435532352475874,
           0.0041449137794652745,
           0.004081632653061225,
           0.00018984337921214997,
           0.009049201075779148,
           0.006549596582819174,
           0.07153931339977852,
           0.3294415440594843,
           0.46752096187312137,
           0.07948109476348679,
           0.019901914254073724,
           0.000664451827242525
          ],
          [
           0.0015031001440470972,
           0,
           0.00012525834533725808,
           0.00012525834533725808,
           0.004196154568798146,
           0.015532034821820005,
           0.008705455000939437,
           0.1144861276382539,
           0.2334815557086491,
           0.6063756497776664,
           0.014091563850441536,
           0.001377841798709839
          ],
          [
           0.0002560491614389963,
           0.0007681474843169889,
           0,
           0.004480860325182435,
           0.002816540775828959,
           0.00012802458071949814,
           0.010626040199718346,
           0.08398412495199079,
           0.1519651773140443,
           0.3108436819869415,
           0.4270900012802458,
           0.007041351939572398
          ],
          [
           0.00267379679144385,
           0,
           0,
           0,
           0.11497326203208556,
           0.00267379679144385,
           0.008021390374331552,
           0.01871657754010695,
           0.10962566844919786,
           0.1443850267379679,
           0.25668449197860965,
           0.3422459893048128
          ]
         ]
        }
       ],
       "layout": {
        "height": 900,
        "shapes": [
         {
          "line": {
           "color": "black",
           "width": 1
          },
          "type": "line",
          "x0": -0.5,
          "x1": 11.5,
          "y0": -0.5,
          "y1": -0.5
         },
         {
          "line": {
           "color": "black",
           "width": 1
          },
          "type": "line",
          "x0": -0.5,
          "x1": 11.5,
          "y0": 0.5,
          "y1": 0.5
         },
         {
          "line": {
           "color": "black",
           "width": 1
          },
          "type": "line",
          "x0": -0.5,
          "x1": 11.5,
          "y0": 1.5,
          "y1": 1.5
         },
         {
          "line": {
           "color": "black",
           "width": 1
          },
          "type": "line",
          "x0": -0.5,
          "x1": 11.5,
          "y0": 2.5,
          "y1": 2.5
         },
         {
          "line": {
           "color": "black",
           "width": 1
          },
          "type": "line",
          "x0": -0.5,
          "x1": 11.5,
          "y0": 3.5,
          "y1": 3.5
         },
         {
          "line": {
           "color": "black",
           "width": 1
          },
          "type": "line",
          "x0": -0.5,
          "x1": 11.5,
          "y0": 4.5,
          "y1": 4.5
         },
         {
          "line": {
           "color": "black",
           "width": 1
          },
          "type": "line",
          "x0": -0.5,
          "x1": 11.5,
          "y0": 5.5,
          "y1": 5.5
         },
         {
          "line": {
           "color": "black",
           "width": 1
          },
          "type": "line",
          "x0": -0.5,
          "x1": 11.5,
          "y0": 6.5,
          "y1": 6.5
         },
         {
          "line": {
           "color": "black",
           "width": 1
          },
          "type": "line",
          "x0": -0.5,
          "x1": 11.5,
          "y0": 7.5,
          "y1": 7.5
         },
         {
          "line": {
           "color": "black",
           "width": 1
          },
          "type": "line",
          "x0": -0.5,
          "x1": 11.5,
          "y0": 8.5,
          "y1": 8.5
         },
         {
          "line": {
           "color": "black",
           "width": 1
          },
          "type": "line",
          "x0": -0.5,
          "x1": 11.5,
          "y0": 9.5,
          "y1": 9.5
         },
         {
          "line": {
           "color": "black",
           "width": 1
          },
          "type": "line",
          "x0": -0.5,
          "x1": 11.5,
          "y0": 10.5,
          "y1": 10.5
         },
         {
          "line": {
           "color": "black",
           "width": 1
          },
          "type": "line",
          "x0": -0.5,
          "x1": 11.5,
          "y0": 11.5,
          "y1": 11.5
         },
         {
          "line": {
           "color": "black",
           "width": 1
          },
          "type": "line",
          "x0": -0.5,
          "x1": -0.5,
          "y0": -0.5,
          "y1": 11.5
         },
         {
          "line": {
           "color": "black",
           "width": 1
          },
          "type": "line",
          "x0": 0.5,
          "x1": 0.5,
          "y0": -0.5,
          "y1": 11.5
         },
         {
          "line": {
           "color": "black",
           "width": 1
          },
          "type": "line",
          "x0": 1.5,
          "x1": 1.5,
          "y0": -0.5,
          "y1": 11.5
         },
         {
          "line": {
           "color": "black",
           "width": 1
          },
          "type": "line",
          "x0": 2.5,
          "x1": 2.5,
          "y0": -0.5,
          "y1": 11.5
         },
         {
          "line": {
           "color": "black",
           "width": 1
          },
          "type": "line",
          "x0": 3.5,
          "x1": 3.5,
          "y0": -0.5,
          "y1": 11.5
         },
         {
          "line": {
           "color": "black",
           "width": 1
          },
          "type": "line",
          "x0": 4.5,
          "x1": 4.5,
          "y0": -0.5,
          "y1": 11.5
         },
         {
          "line": {
           "color": "black",
           "width": 1
          },
          "type": "line",
          "x0": 5.5,
          "x1": 5.5,
          "y0": -0.5,
          "y1": 11.5
         },
         {
          "line": {
           "color": "black",
           "width": 1
          },
          "type": "line",
          "x0": 6.5,
          "x1": 6.5,
          "y0": -0.5,
          "y1": 11.5
         },
         {
          "line": {
           "color": "black",
           "width": 1
          },
          "type": "line",
          "x0": 7.5,
          "x1": 7.5,
          "y0": -0.5,
          "y1": 11.5
         },
         {
          "line": {
           "color": "black",
           "width": 1
          },
          "type": "line",
          "x0": 8.5,
          "x1": 8.5,
          "y0": -0.5,
          "y1": 11.5
         },
         {
          "line": {
           "color": "black",
           "width": 1
          },
          "type": "line",
          "x0": 9.5,
          "x1": 9.5,
          "y0": -0.5,
          "y1": 11.5
         },
         {
          "line": {
           "color": "black",
           "width": 1
          },
          "type": "line",
          "x0": 10.5,
          "x1": 10.5,
          "y0": -0.5,
          "y1": 11.5
         },
         {
          "line": {
           "color": "black",
           "width": 1
          },
          "type": "line",
          "x0": 11.5,
          "x1": 11.5,
          "y0": -0.5,
          "y1": 11.5
         }
        ],
        "template": {
         "data": {
          "bar": [
           {
            "error_x": {
             "color": "#2a3f5f"
            },
            "error_y": {
             "color": "#2a3f5f"
            },
            "marker": {
             "line": {
              "color": "#E5ECF6",
              "width": 0.5
             },
             "pattern": {
              "fillmode": "overlay",
              "size": 10,
              "solidity": 0.2
             }
            },
            "type": "bar"
           }
          ],
          "barpolar": [
           {
            "marker": {
             "line": {
              "color": "#E5ECF6",
              "width": 0.5
             },
             "pattern": {
              "fillmode": "overlay",
              "size": 10,
              "solidity": 0.2
             }
            },
            "type": "barpolar"
           }
          ],
          "carpet": [
           {
            "aaxis": {
             "endlinecolor": "#2a3f5f",
             "gridcolor": "white",
             "linecolor": "white",
             "minorgridcolor": "white",
             "startlinecolor": "#2a3f5f"
            },
            "baxis": {
             "endlinecolor": "#2a3f5f",
             "gridcolor": "white",
             "linecolor": "white",
             "minorgridcolor": "white",
             "startlinecolor": "#2a3f5f"
            },
            "type": "carpet"
           }
          ],
          "choropleth": [
           {
            "colorbar": {
             "outlinewidth": 0,
             "ticks": ""
            },
            "type": "choropleth"
           }
          ],
          "contour": [
           {
            "colorbar": {
             "outlinewidth": 0,
             "ticks": ""
            },
            "colorscale": [
             [
              0,
              "#0d0887"
             ],
             [
              0.1111111111111111,
              "#46039f"
             ],
             [
              0.2222222222222222,
              "#7201a8"
             ],
             [
              0.3333333333333333,
              "#9c179e"
             ],
             [
              0.4444444444444444,
              "#bd3786"
             ],
             [
              0.5555555555555556,
              "#d8576b"
             ],
             [
              0.6666666666666666,
              "#ed7953"
             ],
             [
              0.7777777777777778,
              "#fb9f3a"
             ],
             [
              0.8888888888888888,
              "#fdca26"
             ],
             [
              1,
              "#f0f921"
             ]
            ],
            "type": "contour"
           }
          ],
          "contourcarpet": [
           {
            "colorbar": {
             "outlinewidth": 0,
             "ticks": ""
            },
            "type": "contourcarpet"
           }
          ],
          "heatmap": [
           {
            "colorbar": {
             "outlinewidth": 0,
             "ticks": ""
            },
            "colorscale": [
             [
              0,
              "#0d0887"
             ],
             [
              0.1111111111111111,
              "#46039f"
             ],
             [
              0.2222222222222222,
              "#7201a8"
             ],
             [
              0.3333333333333333,
              "#9c179e"
             ],
             [
              0.4444444444444444,
              "#bd3786"
             ],
             [
              0.5555555555555556,
              "#d8576b"
             ],
             [
              0.6666666666666666,
              "#ed7953"
             ],
             [
              0.7777777777777778,
              "#fb9f3a"
             ],
             [
              0.8888888888888888,
              "#fdca26"
             ],
             [
              1,
              "#f0f921"
             ]
            ],
            "type": "heatmap"
           }
          ],
          "heatmapgl": [
           {
            "colorbar": {
             "outlinewidth": 0,
             "ticks": ""
            },
            "colorscale": [
             [
              0,
              "#0d0887"
             ],
             [
              0.1111111111111111,
              "#46039f"
             ],
             [
              0.2222222222222222,
              "#7201a8"
             ],
             [
              0.3333333333333333,
              "#9c179e"
             ],
             [
              0.4444444444444444,
              "#bd3786"
             ],
             [
              0.5555555555555556,
              "#d8576b"
             ],
             [
              0.6666666666666666,
              "#ed7953"
             ],
             [
              0.7777777777777778,
              "#fb9f3a"
             ],
             [
              0.8888888888888888,
              "#fdca26"
             ],
             [
              1,
              "#f0f921"
             ]
            ],
            "type": "heatmapgl"
           }
          ],
          "histogram": [
           {
            "marker": {
             "pattern": {
              "fillmode": "overlay",
              "size": 10,
              "solidity": 0.2
             }
            },
            "type": "histogram"
           }
          ],
          "histogram2d": [
           {
            "colorbar": {
             "outlinewidth": 0,
             "ticks": ""
            },
            "colorscale": [
             [
              0,
              "#0d0887"
             ],
             [
              0.1111111111111111,
              "#46039f"
             ],
             [
              0.2222222222222222,
              "#7201a8"
             ],
             [
              0.3333333333333333,
              "#9c179e"
             ],
             [
              0.4444444444444444,
              "#bd3786"
             ],
             [
              0.5555555555555556,
              "#d8576b"
             ],
             [
              0.6666666666666666,
              "#ed7953"
             ],
             [
              0.7777777777777778,
              "#fb9f3a"
             ],
             [
              0.8888888888888888,
              "#fdca26"
             ],
             [
              1,
              "#f0f921"
             ]
            ],
            "type": "histogram2d"
           }
          ],
          "histogram2dcontour": [
           {
            "colorbar": {
             "outlinewidth": 0,
             "ticks": ""
            },
            "colorscale": [
             [
              0,
              "#0d0887"
             ],
             [
              0.1111111111111111,
              "#46039f"
             ],
             [
              0.2222222222222222,
              "#7201a8"
             ],
             [
              0.3333333333333333,
              "#9c179e"
             ],
             [
              0.4444444444444444,
              "#bd3786"
             ],
             [
              0.5555555555555556,
              "#d8576b"
             ],
             [
              0.6666666666666666,
              "#ed7953"
             ],
             [
              0.7777777777777778,
              "#fb9f3a"
             ],
             [
              0.8888888888888888,
              "#fdca26"
             ],
             [
              1,
              "#f0f921"
             ]
            ],
            "type": "histogram2dcontour"
           }
          ],
          "mesh3d": [
           {
            "colorbar": {
             "outlinewidth": 0,
             "ticks": ""
            },
            "type": "mesh3d"
           }
          ],
          "parcoords": [
           {
            "line": {
             "colorbar": {
              "outlinewidth": 0,
              "ticks": ""
             }
            },
            "type": "parcoords"
           }
          ],
          "pie": [
           {
            "automargin": true,
            "type": "pie"
           }
          ],
          "scatter": [
           {
            "fillpattern": {
             "fillmode": "overlay",
             "size": 10,
             "solidity": 0.2
            },
            "type": "scatter"
           }
          ],
          "scatter3d": [
           {
            "line": {
             "colorbar": {
              "outlinewidth": 0,
              "ticks": ""
             }
            },
            "marker": {
             "colorbar": {
              "outlinewidth": 0,
              "ticks": ""
             }
            },
            "type": "scatter3d"
           }
          ],
          "scattercarpet": [
           {
            "marker": {
             "colorbar": {
              "outlinewidth": 0,
              "ticks": ""
             }
            },
            "type": "scattercarpet"
           }
          ],
          "scattergeo": [
           {
            "marker": {
             "colorbar": {
              "outlinewidth": 0,
              "ticks": ""
             }
            },
            "type": "scattergeo"
           }
          ],
          "scattergl": [
           {
            "marker": {
             "colorbar": {
              "outlinewidth": 0,
              "ticks": ""
             }
            },
            "type": "scattergl"
           }
          ],
          "scattermapbox": [
           {
            "marker": {
             "colorbar": {
              "outlinewidth": 0,
              "ticks": ""
             }
            },
            "type": "scattermapbox"
           }
          ],
          "scatterpolar": [
           {
            "marker": {
             "colorbar": {
              "outlinewidth": 0,
              "ticks": ""
             }
            },
            "type": "scatterpolar"
           }
          ],
          "scatterpolargl": [
           {
            "marker": {
             "colorbar": {
              "outlinewidth": 0,
              "ticks": ""
             }
            },
            "type": "scatterpolargl"
           }
          ],
          "scatterternary": [
           {
            "marker": {
             "colorbar": {
              "outlinewidth": 0,
              "ticks": ""
             }
            },
            "type": "scatterternary"
           }
          ],
          "surface": [
           {
            "colorbar": {
             "outlinewidth": 0,
             "ticks": ""
            },
            "colorscale": [
             [
              0,
              "#0d0887"
             ],
             [
              0.1111111111111111,
              "#46039f"
             ],
             [
              0.2222222222222222,
              "#7201a8"
             ],
             [
              0.3333333333333333,
              "#9c179e"
             ],
             [
              0.4444444444444444,
              "#bd3786"
             ],
             [
              0.5555555555555556,
              "#d8576b"
             ],
             [
              0.6666666666666666,
              "#ed7953"
             ],
             [
              0.7777777777777778,
              "#fb9f3a"
             ],
             [
              0.8888888888888888,
              "#fdca26"
             ],
             [
              1,
              "#f0f921"
             ]
            ],
            "type": "surface"
           }
          ],
          "table": [
           {
            "cells": {
             "fill": {
              "color": "#EBF0F8"
             },
             "line": {
              "color": "white"
             }
            },
            "header": {
             "fill": {
              "color": "#C8D4E3"
             },
             "line": {
              "color": "white"
             }
            },
            "type": "table"
           }
          ]
         },
         "layout": {
          "annotationdefaults": {
           "arrowcolor": "#2a3f5f",
           "arrowhead": 0,
           "arrowwidth": 1
          },
          "autotypenumbers": "strict",
          "coloraxis": {
           "colorbar": {
            "outlinewidth": 0,
            "ticks": ""
           }
          },
          "colorscale": {
           "diverging": [
            [
             0,
             "#8e0152"
            ],
            [
             0.1,
             "#c51b7d"
            ],
            [
             0.2,
             "#de77ae"
            ],
            [
             0.3,
             "#f1b6da"
            ],
            [
             0.4,
             "#fde0ef"
            ],
            [
             0.5,
             "#f7f7f7"
            ],
            [
             0.6,
             "#e6f5d0"
            ],
            [
             0.7,
             "#b8e186"
            ],
            [
             0.8,
             "#7fbc41"
            ],
            [
             0.9,
             "#4d9221"
            ],
            [
             1,
             "#276419"
            ]
           ],
           "sequential": [
            [
             0,
             "#0d0887"
            ],
            [
             0.1111111111111111,
             "#46039f"
            ],
            [
             0.2222222222222222,
             "#7201a8"
            ],
            [
             0.3333333333333333,
             "#9c179e"
            ],
            [
             0.4444444444444444,
             "#bd3786"
            ],
            [
             0.5555555555555556,
             "#d8576b"
            ],
            [
             0.6666666666666666,
             "#ed7953"
            ],
            [
             0.7777777777777778,
             "#fb9f3a"
            ],
            [
             0.8888888888888888,
             "#fdca26"
            ],
            [
             1,
             "#f0f921"
            ]
           ],
           "sequentialminus": [
            [
             0,
             "#0d0887"
            ],
            [
             0.1111111111111111,
             "#46039f"
            ],
            [
             0.2222222222222222,
             "#7201a8"
            ],
            [
             0.3333333333333333,
             "#9c179e"
            ],
            [
             0.4444444444444444,
             "#bd3786"
            ],
            [
             0.5555555555555556,
             "#d8576b"
            ],
            [
             0.6666666666666666,
             "#ed7953"
            ],
            [
             0.7777777777777778,
             "#fb9f3a"
            ],
            [
             0.8888888888888888,
             "#fdca26"
            ],
            [
             1,
             "#f0f921"
            ]
           ]
          },
          "colorway": [
           "#636efa",
           "#EF553B",
           "#00cc96",
           "#ab63fa",
           "#FFA15A",
           "#19d3f3",
           "#FF6692",
           "#B6E880",
           "#FF97FF",
           "#FECB52"
          ],
          "font": {
           "color": "#2a3f5f"
          },
          "geo": {
           "bgcolor": "white",
           "lakecolor": "white",
           "landcolor": "#E5ECF6",
           "showlakes": true,
           "showland": true,
           "subunitcolor": "white"
          },
          "hoverlabel": {
           "align": "left"
          },
          "hovermode": "closest",
          "mapbox": {
           "style": "light"
          },
          "paper_bgcolor": "white",
          "plot_bgcolor": "#E5ECF6",
          "polar": {
           "angularaxis": {
            "gridcolor": "white",
            "linecolor": "white",
            "ticks": ""
           },
           "bgcolor": "#E5ECF6",
           "radialaxis": {
            "gridcolor": "white",
            "linecolor": "white",
            "ticks": ""
           }
          },
          "scene": {
           "xaxis": {
            "backgroundcolor": "#E5ECF6",
            "gridcolor": "white",
            "gridwidth": 2,
            "linecolor": "white",
            "showbackground": true,
            "ticks": "",
            "zerolinecolor": "white"
           },
           "yaxis": {
            "backgroundcolor": "#E5ECF6",
            "gridcolor": "white",
            "gridwidth": 2,
            "linecolor": "white",
            "showbackground": true,
            "ticks": "",
            "zerolinecolor": "white"
           },
           "zaxis": {
            "backgroundcolor": "#E5ECF6",
            "gridcolor": "white",
            "gridwidth": 2,
            "linecolor": "white",
            "showbackground": true,
            "ticks": "",
            "zerolinecolor": "white"
           }
          },
          "shapedefaults": {
           "line": {
            "color": "#2a3f5f"
           }
          },
          "ternary": {
           "aaxis": {
            "gridcolor": "white",
            "linecolor": "white",
            "ticks": ""
           },
           "baxis": {
            "gridcolor": "white",
            "linecolor": "white",
            "ticks": ""
           },
           "bgcolor": "#E5ECF6",
           "caxis": {
            "gridcolor": "white",
            "linecolor": "white",
            "ticks": ""
           }
          },
          "title": {
           "x": 0.05
          },
          "xaxis": {
           "automargin": true,
           "gridcolor": "white",
           "linecolor": "white",
           "ticks": "",
           "title": {
            "standoff": 15
           },
           "zerolinecolor": "white",
           "zerolinewidth": 2
          },
          "yaxis": {
           "automargin": true,
           "gridcolor": "white",
           "linecolor": "white",
           "ticks": "",
           "title": {
            "standoff": 15
           },
           "zerolinecolor": "white",
           "zerolinewidth": 2
          }
         }
        },
        "width": 900,
        "xaxis": {
         "tickfont": {
          "family": "Times New Roman",
          "size": 24
         },
         "ticktext": [
          "-4",
          "-3",
          "-2",
          "-1",
          "+0",
          "+1",
          "+2",
          "+3",
          "+4",
          "+5",
          "+6",
          "+7"
         ],
         "title": {
          "font": {
           "size": 24
          },
          "text": "Predicted Oxidation States"
         }
        },
        "yaxis": {
         "tickfont": {
          "family": "Times New Roman",
          "size": 24
         },
         "ticktext": [
          "-4",
          "-3",
          "-2",
          "-1",
          "+0",
          "+1",
          "+2",
          "+3",
          "+4",
          "+5",
          "+6",
          "+7"
         ],
         "title": {
          "font": {
           "size": 24
          },
          "text": "True Oxidation States"
         }
        }
       }
      },
      "text/html": [
       "<div>                            <div id=\"7b2ecd76-baae-4e46-8184-3e7f830fd5b0\" class=\"plotly-graph-div\" style=\"height:900px; width:900px;\"></div>            <script type=\"text/javascript\">                require([\"plotly\"], function(Plotly) {                    window.PLOTLYENV=window.PLOTLYENV || {};                                    if (document.getElementById(\"7b2ecd76-baae-4e46-8184-3e7f830fd5b0\")) {                    Plotly.newPlot(                        \"7b2ecd76-baae-4e46-8184-3e7f830fd5b0\",                        [{\"colorscale\":[[0.0,\"#9FDAF7\"],[1.0,\"#F9B3AD\"]],\"hoverongaps\":false,\"showscale\":false,\"text\":[[\"0.80\",\"0.06\",\"0.00\",\"0.06\",\"0.06\",\"0.01\",\"0.00\",\"0.00\",\"0.00\",\"0.00\",\"0.00\",\"0.00\"],[\"0.09\",\"0.89\",\"0.01\",\"0.00\",\"0.00\",\"0.00\",\"0.00\",\"0.00\",\"0.00\",\"0.00\",\"0.00\",\"0.00\"],[\"0.06\",\"0.10\",\"0.81\",\"0.01\",\"0.01\",\"0.00\",\"0.00\",\"0.00\",\"0.00\",\"0.00\",\"0.00\",\"0.00\"],[\"0.04\",\"0.07\",\"0.11\",\"0.76\",\"0.01\",\"0.00\",\"0.00\",\"0.00\",\"0.00\",\"0.00\",\"0.00\",\"0.00\"],[\"0.09\",\"0.03\",\"0.00\",\"0.00\",\"0.81\",\"0.03\",\"0.02\",\"0.02\",\"0.01\",\"0.00\",\"0.00\",\"0.00\"],[\"0.02\",\"0.02\",\"0.01\",\"0.00\",\"0.06\",\"0.70\",\"0.14\",\"0.04\",\"0.01\",\"0.00\",\"0.00\",\"0.00\"],[\"0.02\",\"0.01\",\"0.00\",\"0.00\",\"0.04\",\"0.06\",\"0.65\",\"0.16\",\"0.05\",\"0.01\",\"0.00\",\"0.00\"],[\"0.01\",\"0.00\",\"0.00\",\"0.00\",\"0.01\",\"0.02\",\"0.20\",\"0.65\",\"0.10\",\"0.02\",\"0.00\",\"0.00\"],[\"0.01\",\"0.00\",\"0.00\",\"0.00\",\"0.01\",\"0.01\",\"0.07\",\"0.33\",\"0.47\",\"0.08\",\"0.02\",\"0.00\"],[\"0.00\",\"0.00\",\"0.00\",\"0.00\",\"0.00\",\"0.02\",\"0.01\",\"0.11\",\"0.23\",\"0.61\",\"0.01\",\"0.00\"],[\"0.00\",\"0.00\",\"0.00\",\"0.00\",\"0.00\",\"0.00\",\"0.01\",\"0.08\",\"0.15\",\"0.31\",\"0.43\",\"0.01\"],[\"0.00\",\"0.00\",\"0.00\",\"0.00\",\"0.11\",\"0.00\",\"0.01\",\"0.02\",\"0.11\",\"0.14\",\"0.26\",\"0.34\"]],\"textfont\":{\"size\":16},\"texttemplate\":\"%{text}\",\"x\":[\"-4\",\"-3\",\"-2\",\"-1\",\"+0\",\"+1\",\"+2\",\"+3\",\"+4\",\"+5\",\"+6\",\"+7\"],\"y\":[\"-4\",\"-3\",\"-2\",\"-1\",\"+0\",\"+1\",\"+2\",\"+3\",\"+4\",\"+5\",\"+6\",\"+7\"],\"z\":[[0.8016473299337189,0.06345186351346727,0.004859851466511516,0.05724585600693612,0.056572777986926316,0.014077597910035707,0.0013119317339174283,0.0005704051017032297,0.00021675393864722725,0.00003422430610219378,0.000011408102034064593,0.0],[0.09295662069526106,0.8943967269081746,0.007291977131709431,0.000629961795865283,0.004362316091798304,0.00022692172216652668,0.00007112471888801583,0.000023708239629338606,0.000027095131004958408,3.386891375619801e-6,0.000010160674126859404,0.0],[0.062474908715517405,0.10365329102066566,0.8142384675677226,0.005677799231489801,0.012368808426848153,0.0008985069490909786,0.0005161635664990728,0.00011470301477757173,0.00001911716912959529,0.00003823433825919058,0.0,0.0],[0.0416429789653212,0.07049459920409323,0.11078737919272313,0.7608726549175668,0.011938601478112564,0.0005685048322910744,0.0022740193291642978,0.0004974417282546902,0.000923820352472996,0.0,0.0,0.0],[0.08715901530272788,0.03304502106897316,0.0013306719893546241,0.0,0.8110445775116434,0.027944111776447105,0.015302727877578177,0.015968063872255488,0.008205810601020182,0.0,0.0,0.0],[0.020716849295477298,0.01537078529253526,0.005536751636167996,0.0022201488725593684,0.05660698597764868,0.7002458508414092,0.14383976790590927,0.040493880970055234,0.010637645824962374,0.0028807453162350088,0.0011577463445861737,0.00029284172245414985],[0.015784193319610455,0.008899690370344744,0.003710366539239937,0.0027416927574337065,0.03910155506737472,0.0631540710245455,0.6480168134092128,0.15946792132985071,0.04587362266696649,0.008475895590804519,0.003424953728529173,0.0013492241960872497],[0.006428119804229211,0.00012879657166943773,0.0006439828583471888,0.0027164367843008686,0.008324942041542749,0.01780905322811044,0.19670749127695947,0.6522726740510034,0.09539142449008266,0.015584385172001967,0.0032199142917359435,0.0007727794300166265],[0.007435532352475874,0.0041449137794652745,0.004081632653061225,0.00018984337921214997,0.009049201075779148,0.006549596582819174,0.07153931339977852,0.3294415440594843,0.46752096187312137,0.07948109476348679,0.019901914254073724,0.000664451827242525],[0.0015031001440470972,0.0,0.00012525834533725808,0.00012525834533725808,0.004196154568798146,0.015532034821820005,0.008705455000939437,0.1144861276382539,0.2334815557086491,0.6063756497776664,0.014091563850441536,0.001377841798709839],[0.0002560491614389963,0.0007681474843169889,0.0,0.004480860325182435,0.002816540775828959,0.00012802458071949814,0.010626040199718346,0.08398412495199079,0.1519651773140443,0.3108436819869415,0.4270900012802458,0.007041351939572398],[0.00267379679144385,0.0,0.0,0.0,0.11497326203208556,0.00267379679144385,0.008021390374331552,0.01871657754010695,0.10962566844919786,0.1443850267379679,0.25668449197860965,0.3422459893048128]],\"type\":\"heatmap\"}],                        {\"template\":{\"data\":{\"histogram2dcontour\":[{\"type\":\"histogram2dcontour\",\"colorbar\":{\"outlinewidth\":0,\"ticks\":\"\"},\"colorscale\":[[0.0,\"#0d0887\"],[0.1111111111111111,\"#46039f\"],[0.2222222222222222,\"#7201a8\"],[0.3333333333333333,\"#9c179e\"],[0.4444444444444444,\"#bd3786\"],[0.5555555555555556,\"#d8576b\"],[0.6666666666666666,\"#ed7953\"],[0.7777777777777778,\"#fb9f3a\"],[0.8888888888888888,\"#fdca26\"],[1.0,\"#f0f921\"]]}],\"choropleth\":[{\"type\":\"choropleth\",\"colorbar\":{\"outlinewidth\":0,\"ticks\":\"\"}}],\"histogram2d\":[{\"type\":\"histogram2d\",\"colorbar\":{\"outlinewidth\":0,\"ticks\":\"\"},\"colorscale\":[[0.0,\"#0d0887\"],[0.1111111111111111,\"#46039f\"],[0.2222222222222222,\"#7201a8\"],[0.3333333333333333,\"#9c179e\"],[0.4444444444444444,\"#bd3786\"],[0.5555555555555556,\"#d8576b\"],[0.6666666666666666,\"#ed7953\"],[0.7777777777777778,\"#fb9f3a\"],[0.8888888888888888,\"#fdca26\"],[1.0,\"#f0f921\"]]}],\"heatmap\":[{\"type\":\"heatmap\",\"colorbar\":{\"outlinewidth\":0,\"ticks\":\"\"},\"colorscale\":[[0.0,\"#0d0887\"],[0.1111111111111111,\"#46039f\"],[0.2222222222222222,\"#7201a8\"],[0.3333333333333333,\"#9c179e\"],[0.4444444444444444,\"#bd3786\"],[0.5555555555555556,\"#d8576b\"],[0.6666666666666666,\"#ed7953\"],[0.7777777777777778,\"#fb9f3a\"],[0.8888888888888888,\"#fdca26\"],[1.0,\"#f0f921\"]]}],\"heatmapgl\":[{\"type\":\"heatmapgl\",\"colorbar\":{\"outlinewidth\":0,\"ticks\":\"\"},\"colorscale\":[[0.0,\"#0d0887\"],[0.1111111111111111,\"#46039f\"],[0.2222222222222222,\"#7201a8\"],[0.3333333333333333,\"#9c179e\"],[0.4444444444444444,\"#bd3786\"],[0.5555555555555556,\"#d8576b\"],[0.6666666666666666,\"#ed7953\"],[0.7777777777777778,\"#fb9f3a\"],[0.8888888888888888,\"#fdca26\"],[1.0,\"#f0f921\"]]}],\"contourcarpet\":[{\"type\":\"contourcarpet\",\"colorbar\":{\"outlinewidth\":0,\"ticks\":\"\"}}],\"contour\":[{\"type\":\"contour\",\"colorbar\":{\"outlinewidth\":0,\"ticks\":\"\"},\"colorscale\":[[0.0,\"#0d0887\"],[0.1111111111111111,\"#46039f\"],[0.2222222222222222,\"#7201a8\"],[0.3333333333333333,\"#9c179e\"],[0.4444444444444444,\"#bd3786\"],[0.5555555555555556,\"#d8576b\"],[0.6666666666666666,\"#ed7953\"],[0.7777777777777778,\"#fb9f3a\"],[0.8888888888888888,\"#fdca26\"],[1.0,\"#f0f921\"]]}],\"surface\":[{\"type\":\"surface\",\"colorbar\":{\"outlinewidth\":0,\"ticks\":\"\"},\"colorscale\":[[0.0,\"#0d0887\"],[0.1111111111111111,\"#46039f\"],[0.2222222222222222,\"#7201a8\"],[0.3333333333333333,\"#9c179e\"],[0.4444444444444444,\"#bd3786\"],[0.5555555555555556,\"#d8576b\"],[0.6666666666666666,\"#ed7953\"],[0.7777777777777778,\"#fb9f3a\"],[0.8888888888888888,\"#fdca26\"],[1.0,\"#f0f921\"]]}],\"mesh3d\":[{\"type\":\"mesh3d\",\"colorbar\":{\"outlinewidth\":0,\"ticks\":\"\"}}],\"scatter\":[{\"fillpattern\":{\"fillmode\":\"overlay\",\"size\":10,\"solidity\":0.2},\"type\":\"scatter\"}],\"parcoords\":[{\"type\":\"parcoords\",\"line\":{\"colorbar\":{\"outlinewidth\":0,\"ticks\":\"\"}}}],\"scatterpolargl\":[{\"type\":\"scatterpolargl\",\"marker\":{\"colorbar\":{\"outlinewidth\":0,\"ticks\":\"\"}}}],\"bar\":[{\"error_x\":{\"color\":\"#2a3f5f\"},\"error_y\":{\"color\":\"#2a3f5f\"},\"marker\":{\"line\":{\"color\":\"#E5ECF6\",\"width\":0.5},\"pattern\":{\"fillmode\":\"overlay\",\"size\":10,\"solidity\":0.2}},\"type\":\"bar\"}],\"scattergeo\":[{\"type\":\"scattergeo\",\"marker\":{\"colorbar\":{\"outlinewidth\":0,\"ticks\":\"\"}}}],\"scatterpolar\":[{\"type\":\"scatterpolar\",\"marker\":{\"colorbar\":{\"outlinewidth\":0,\"ticks\":\"\"}}}],\"histogram\":[{\"marker\":{\"pattern\":{\"fillmode\":\"overlay\",\"size\":10,\"solidity\":0.2}},\"type\":\"histogram\"}],\"scattergl\":[{\"type\":\"scattergl\",\"marker\":{\"colorbar\":{\"outlinewidth\":0,\"ticks\":\"\"}}}],\"scatter3d\":[{\"type\":\"scatter3d\",\"line\":{\"colorbar\":{\"outlinewidth\":0,\"ticks\":\"\"}},\"marker\":{\"colorbar\":{\"outlinewidth\":0,\"ticks\":\"\"}}}],\"scattermapbox\":[{\"type\":\"scattermapbox\",\"marker\":{\"colorbar\":{\"outlinewidth\":0,\"ticks\":\"\"}}}],\"scatterternary\":[{\"type\":\"scatterternary\",\"marker\":{\"colorbar\":{\"outlinewidth\":0,\"ticks\":\"\"}}}],\"scattercarpet\":[{\"type\":\"scattercarpet\",\"marker\":{\"colorbar\":{\"outlinewidth\":0,\"ticks\":\"\"}}}],\"carpet\":[{\"aaxis\":{\"endlinecolor\":\"#2a3f5f\",\"gridcolor\":\"white\",\"linecolor\":\"white\",\"minorgridcolor\":\"white\",\"startlinecolor\":\"#2a3f5f\"},\"baxis\":{\"endlinecolor\":\"#2a3f5f\",\"gridcolor\":\"white\",\"linecolor\":\"white\",\"minorgridcolor\":\"white\",\"startlinecolor\":\"#2a3f5f\"},\"type\":\"carpet\"}],\"table\":[{\"cells\":{\"fill\":{\"color\":\"#EBF0F8\"},\"line\":{\"color\":\"white\"}},\"header\":{\"fill\":{\"color\":\"#C8D4E3\"},\"line\":{\"color\":\"white\"}},\"type\":\"table\"}],\"barpolar\":[{\"marker\":{\"line\":{\"color\":\"#E5ECF6\",\"width\":0.5},\"pattern\":{\"fillmode\":\"overlay\",\"size\":10,\"solidity\":0.2}},\"type\":\"barpolar\"}],\"pie\":[{\"automargin\":true,\"type\":\"pie\"}]},\"layout\":{\"autotypenumbers\":\"strict\",\"colorway\":[\"#636efa\",\"#EF553B\",\"#00cc96\",\"#ab63fa\",\"#FFA15A\",\"#19d3f3\",\"#FF6692\",\"#B6E880\",\"#FF97FF\",\"#FECB52\"],\"font\":{\"color\":\"#2a3f5f\"},\"hovermode\":\"closest\",\"hoverlabel\":{\"align\":\"left\"},\"paper_bgcolor\":\"white\",\"plot_bgcolor\":\"#E5ECF6\",\"polar\":{\"bgcolor\":\"#E5ECF6\",\"angularaxis\":{\"gridcolor\":\"white\",\"linecolor\":\"white\",\"ticks\":\"\"},\"radialaxis\":{\"gridcolor\":\"white\",\"linecolor\":\"white\",\"ticks\":\"\"}},\"ternary\":{\"bgcolor\":\"#E5ECF6\",\"aaxis\":{\"gridcolor\":\"white\",\"linecolor\":\"white\",\"ticks\":\"\"},\"baxis\":{\"gridcolor\":\"white\",\"linecolor\":\"white\",\"ticks\":\"\"},\"caxis\":{\"gridcolor\":\"white\",\"linecolor\":\"white\",\"ticks\":\"\"}},\"coloraxis\":{\"colorbar\":{\"outlinewidth\":0,\"ticks\":\"\"}},\"colorscale\":{\"sequential\":[[0.0,\"#0d0887\"],[0.1111111111111111,\"#46039f\"],[0.2222222222222222,\"#7201a8\"],[0.3333333333333333,\"#9c179e\"],[0.4444444444444444,\"#bd3786\"],[0.5555555555555556,\"#d8576b\"],[0.6666666666666666,\"#ed7953\"],[0.7777777777777778,\"#fb9f3a\"],[0.8888888888888888,\"#fdca26\"],[1.0,\"#f0f921\"]],\"sequentialminus\":[[0.0,\"#0d0887\"],[0.1111111111111111,\"#46039f\"],[0.2222222222222222,\"#7201a8\"],[0.3333333333333333,\"#9c179e\"],[0.4444444444444444,\"#bd3786\"],[0.5555555555555556,\"#d8576b\"],[0.6666666666666666,\"#ed7953\"],[0.7777777777777778,\"#fb9f3a\"],[0.8888888888888888,\"#fdca26\"],[1.0,\"#f0f921\"]],\"diverging\":[[0,\"#8e0152\"],[0.1,\"#c51b7d\"],[0.2,\"#de77ae\"],[0.3,\"#f1b6da\"],[0.4,\"#fde0ef\"],[0.5,\"#f7f7f7\"],[0.6,\"#e6f5d0\"],[0.7,\"#b8e186\"],[0.8,\"#7fbc41\"],[0.9,\"#4d9221\"],[1,\"#276419\"]]},\"xaxis\":{\"gridcolor\":\"white\",\"linecolor\":\"white\",\"ticks\":\"\",\"title\":{\"standoff\":15},\"zerolinecolor\":\"white\",\"automargin\":true,\"zerolinewidth\":2},\"yaxis\":{\"gridcolor\":\"white\",\"linecolor\":\"white\",\"ticks\":\"\",\"title\":{\"standoff\":15},\"zerolinecolor\":\"white\",\"automargin\":true,\"zerolinewidth\":2},\"scene\":{\"xaxis\":{\"backgroundcolor\":\"#E5ECF6\",\"gridcolor\":\"white\",\"linecolor\":\"white\",\"showbackground\":true,\"ticks\":\"\",\"zerolinecolor\":\"white\",\"gridwidth\":2},\"yaxis\":{\"backgroundcolor\":\"#E5ECF6\",\"gridcolor\":\"white\",\"linecolor\":\"white\",\"showbackground\":true,\"ticks\":\"\",\"zerolinecolor\":\"white\",\"gridwidth\":2},\"zaxis\":{\"backgroundcolor\":\"#E5ECF6\",\"gridcolor\":\"white\",\"linecolor\":\"white\",\"showbackground\":true,\"ticks\":\"\",\"zerolinecolor\":\"white\",\"gridwidth\":2}},\"shapedefaults\":{\"line\":{\"color\":\"#2a3f5f\"}},\"annotationdefaults\":{\"arrowcolor\":\"#2a3f5f\",\"arrowhead\":0,\"arrowwidth\":1},\"geo\":{\"bgcolor\":\"white\",\"landcolor\":\"#E5ECF6\",\"subunitcolor\":\"white\",\"showland\":true,\"showlakes\":true,\"lakecolor\":\"white\"},\"title\":{\"x\":0.05},\"mapbox\":{\"style\":\"light\"}}},\"xaxis\":{\"title\":{\"text\":\"Predicted Oxidation States\",\"font\":{\"size\":24}},\"tickfont\":{\"size\":24,\"family\":\"Times New Roman\"},\"ticktext\":[\"-4\",\"-3\",\"-2\",\"-1\",\"+0\",\"+1\",\"+2\",\"+3\",\"+4\",\"+5\",\"+6\",\"+7\"]},\"yaxis\":{\"title\":{\"text\":\"True Oxidation States\",\"font\":{\"size\":24}},\"tickfont\":{\"size\":24,\"family\":\"Times New Roman\"},\"ticktext\":[\"-4\",\"-3\",\"-2\",\"-1\",\"+0\",\"+1\",\"+2\",\"+3\",\"+4\",\"+5\",\"+6\",\"+7\"]},\"width\":900,\"height\":900,\"shapes\":[{\"line\":{\"color\":\"black\",\"width\":1},\"type\":\"line\",\"x0\":-0.5,\"x1\":11.5,\"y0\":-0.5,\"y1\":-0.5},{\"line\":{\"color\":\"black\",\"width\":1},\"type\":\"line\",\"x0\":-0.5,\"x1\":11.5,\"y0\":0.5,\"y1\":0.5},{\"line\":{\"color\":\"black\",\"width\":1},\"type\":\"line\",\"x0\":-0.5,\"x1\":11.5,\"y0\":1.5,\"y1\":1.5},{\"line\":{\"color\":\"black\",\"width\":1},\"type\":\"line\",\"x0\":-0.5,\"x1\":11.5,\"y0\":2.5,\"y1\":2.5},{\"line\":{\"color\":\"black\",\"width\":1},\"type\":\"line\",\"x0\":-0.5,\"x1\":11.5,\"y0\":3.5,\"y1\":3.5},{\"line\":{\"color\":\"black\",\"width\":1},\"type\":\"line\",\"x0\":-0.5,\"x1\":11.5,\"y0\":4.5,\"y1\":4.5},{\"line\":{\"color\":\"black\",\"width\":1},\"type\":\"line\",\"x0\":-0.5,\"x1\":11.5,\"y0\":5.5,\"y1\":5.5},{\"line\":{\"color\":\"black\",\"width\":1},\"type\":\"line\",\"x0\":-0.5,\"x1\":11.5,\"y0\":6.5,\"y1\":6.5},{\"line\":{\"color\":\"black\",\"width\":1},\"type\":\"line\",\"x0\":-0.5,\"x1\":11.5,\"y0\":7.5,\"y1\":7.5},{\"line\":{\"color\":\"black\",\"width\":1},\"type\":\"line\",\"x0\":-0.5,\"x1\":11.5,\"y0\":8.5,\"y1\":8.5},{\"line\":{\"color\":\"black\",\"width\":1},\"type\":\"line\",\"x0\":-0.5,\"x1\":11.5,\"y0\":9.5,\"y1\":9.5},{\"line\":{\"color\":\"black\",\"width\":1},\"type\":\"line\",\"x0\":-0.5,\"x1\":11.5,\"y0\":10.5,\"y1\":10.5},{\"line\":{\"color\":\"black\",\"width\":1},\"type\":\"line\",\"x0\":-0.5,\"x1\":11.5,\"y0\":11.5,\"y1\":11.5},{\"line\":{\"color\":\"black\",\"width\":1},\"type\":\"line\",\"x0\":-0.5,\"x1\":-0.5,\"y0\":-0.5,\"y1\":11.5},{\"line\":{\"color\":\"black\",\"width\":1},\"type\":\"line\",\"x0\":0.5,\"x1\":0.5,\"y0\":-0.5,\"y1\":11.5},{\"line\":{\"color\":\"black\",\"width\":1},\"type\":\"line\",\"x0\":1.5,\"x1\":1.5,\"y0\":-0.5,\"y1\":11.5},{\"line\":{\"color\":\"black\",\"width\":1},\"type\":\"line\",\"x0\":2.5,\"x1\":2.5,\"y0\":-0.5,\"y1\":11.5},{\"line\":{\"color\":\"black\",\"width\":1},\"type\":\"line\",\"x0\":3.5,\"x1\":3.5,\"y0\":-0.5,\"y1\":11.5},{\"line\":{\"color\":\"black\",\"width\":1},\"type\":\"line\",\"x0\":4.5,\"x1\":4.5,\"y0\":-0.5,\"y1\":11.5},{\"line\":{\"color\":\"black\",\"width\":1},\"type\":\"line\",\"x0\":5.5,\"x1\":5.5,\"y0\":-0.5,\"y1\":11.5},{\"line\":{\"color\":\"black\",\"width\":1},\"type\":\"line\",\"x0\":6.5,\"x1\":6.5,\"y0\":-0.5,\"y1\":11.5},{\"line\":{\"color\":\"black\",\"width\":1},\"type\":\"line\",\"x0\":7.5,\"x1\":7.5,\"y0\":-0.5,\"y1\":11.5},{\"line\":{\"color\":\"black\",\"width\":1},\"type\":\"line\",\"x0\":8.5,\"x1\":8.5,\"y0\":-0.5,\"y1\":11.5},{\"line\":{\"color\":\"black\",\"width\":1},\"type\":\"line\",\"x0\":9.5,\"x1\":9.5,\"y0\":-0.5,\"y1\":11.5},{\"line\":{\"color\":\"black\",\"width\":1},\"type\":\"line\",\"x0\":10.5,\"x1\":10.5,\"y0\":-0.5,\"y1\":11.5},{\"line\":{\"color\":\"black\",\"width\":1},\"type\":\"line\",\"x0\":11.5,\"x1\":11.5,\"y0\":-0.5,\"y1\":11.5}]},                        {\"responsive\": true}                    ).then(function(){\n",
       "                            \n",
       "var gd = document.getElementById('7b2ecd76-baae-4e46-8184-3e7f830fd5b0');\n",
       "var x = new MutationObserver(function (mutations, observer) {{\n",
       "        var display = window.getComputedStyle(gd).display;\n",
       "        if (!display || display === 'none') {{\n",
       "            console.log([gd, 'removed!']);\n",
       "            Plotly.purge(gd);\n",
       "            observer.disconnect();\n",
       "        }}\n",
       "}});\n",
       "\n",
       "// Listen for the removal of the full notebook cells\n",
       "var notebookContainer = gd.closest('#notebook-container');\n",
       "if (notebookContainer) {{\n",
       "    x.observe(notebookContainer, {childList: true});\n",
       "}}\n",
       "\n",
       "// Listen for the clearing of the current output cell\n",
       "var outputEl = gd.closest('.output');\n",
       "if (outputEl) {{\n",
       "    x.observe(outputEl, {childList: true});\n",
       "}}\n",
       "\n",
       "                        })                };                });            </script>        </div>"
      ]
     },
     "metadata": {},
     "output_type": "display_data"
    },
    {
     "name": "stdout",
     "output_type": "stream",
     "text": [
      "0.7612082689448056\n"
     ]
    }
   ],
   "source": [
    "import pandas as pd\n",
    "import plotly.graph_objects as go\n",
    "\n",
    "\n",
    "cm_str = [[\"%.2f\" % y for y in x] for x in NC_CM]\n",
    "df_str = pd.DataFrame(cm_str)\n",
    "tick_labels = [f'+{i}' if i >= 0 else str(i) for i in range(-4, 8)]\n",
    "\n",
    "colorscale = [[0.0, '#9FDAF7'], [1.0, '#F9B3AD']]\n",
    "\n",
    "fig = go.Figure(data=go.Heatmap(z=NC_CM, x=tick_labels, y=tick_labels,\n",
    "                                text=df_str,texttemplate=\"%{text}\",textfont={\"size\": 16},showscale=False,\n",
    "                                colorscale=colorscale, hoverongaps=False))\n",
    "\n",
    "fig.update_layout(width=900, height=900,xaxis=dict(title=\"Predicted Oxidation States\", titlefont_size=24, tickfont_size=24, ticktext=tick_labels,\n",
    "                             tickfont=dict(family=\"Times New Roman\")),\n",
    "                                        yaxis=dict(title=\"True Oxidation States\", titlefont_size=24, tickfont_size=24, ticktext=tick_labels,\n",
    "                             tickfont=dict(family=\"Times New Roman\")))\n",
    "\n",
    "for i in range(len(tick_labels) + 1):\n",
    "    fig.add_shape(type=\"line\",x0=-0.5, y0=i - 0.5, x1=len(tick_labels) - 0.5, y1=i - 0.5, line=dict(color=\"black\", width=1))\n",
    "for i in range(len(tick_labels) + 1):\n",
    "    fig.add_shape(type=\"line\",x0=i - 0.5, y0=-0.5, x1=i - 0.5, y1=len(tick_labels) - 0.5, line=dict(color=\"black\", width=1))\n",
    "fig.show()\n",
    "\n",
    "fig.write_image(\".png\")"
   ]
  },
  {
   "cell_type": "code",
   "execution_count": null,
   "id": "bffc7da2",
   "metadata": {},
   "outputs": [],
   "source": [
    "0.7526325917718751\n",
    "0.7612082689448056"
   ]
  },
  {
   "cell_type": "code",
   "execution_count": null,
   "id": "3eab2f2b",
   "metadata": {},
   "outputs": [],
   "source": []
  },
  {
   "cell_type": "code",
   "execution_count": null,
   "id": "6408801b",
   "metadata": {},
   "outputs": [],
   "source": []
  },
  {
   "cell_type": "code",
   "execution_count": null,
   "id": "c8e560eb",
   "metadata": {},
   "outputs": [],
   "source": []
  },
  {
   "cell_type": "code",
   "execution_count": null,
   "id": "f183f5e8",
   "metadata": {},
   "outputs": [],
   "source": [
    "TOSS = 0.7640467439674983\n",
    "BVS = 0.7733770891108066"
   ]
  }
 ],
 "metadata": {
  "kernelspec": {
   "display_name": "GFOS",
   "language": "python",
   "name": "gfos"
  },
  "language_info": {
   "codemirror_mode": {
    "name": "ipython",
    "version": 3
   },
   "file_extension": ".py",
   "mimetype": "text/x-python",
   "name": "python",
   "nbconvert_exporter": "python",
   "pygments_lexer": "ipython3",
   "version": "3.7.0"
  }
 },
 "nbformat": 4,
 "nbformat_minor": 5
}
